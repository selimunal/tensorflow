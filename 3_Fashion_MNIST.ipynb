{
  "nbformat": 4,
  "nbformat_minor": 0,
  "metadata": {
    "colab": {
      "provenance": [],
      "authorship_tag": "ABX9TyMtOMJVubTHkgqp70qUL5DV",
      "include_colab_link": true
    },
    "kernelspec": {
      "name": "python3",
      "display_name": "Python 3"
    },
    "language_info": {
      "name": "python"
    }
  },
  "cells": [
    {
      "cell_type": "markdown",
      "metadata": {
        "id": "view-in-github",
        "colab_type": "text"
      },
      "source": [
        "<a href=\"https://colab.research.google.com/github/selimunal/tensorflow/blob/main/3_Fashion_MNIST.ipynb\" target=\"_parent\"><img src=\"https://colab.research.google.com/assets/colab-badge.svg\" alt=\"Open In Colab\"/></a>"
      ]
    },
    {
      "cell_type": "code",
      "execution_count": null,
      "metadata": {
        "id": "Q00ns4yxslzz"
      },
      "outputs": [],
      "source": [
        "import tensorflow as tf"
      ]
    },
    {
      "cell_type": "code",
      "source": [
        "import numpy as np\n",
        "import seaborn as sns\n",
        "import matplotlib.pyplot as plt\n",
        "from tensorflow.keras.layers import Dense,Flatten,Input,Dropout,Conv2D"
      ],
      "metadata": {
        "id": "xrUXyCODukPE"
      },
      "execution_count": null,
      "outputs": []
    },
    {
      "cell_type": "code",
      "source": [
        "from  tensorflow.keras.models import Sequential,Model"
      ],
      "metadata": {
        "id": "Si56JQaDvZXV"
      },
      "execution_count": null,
      "outputs": []
    },
    {
      "cell_type": "code",
      "source": [
        "fashion_mnist=tf.keras.datasets.fashion_mnist"
      ],
      "metadata": {
        "id": "Kq3fuP8UvlXr"
      },
      "execution_count": null,
      "outputs": []
    },
    {
      "cell_type": "code",
      "source": [
        "type(fashion_mnist)"
      ],
      "metadata": {
        "colab": {
          "base_uri": "https://localhost:8080/"
        },
        "id": "gQaFxYfJ5Y7S",
        "outputId": "e100c5be-c612-41e1-b3c6-e3d271cce4f9"
      },
      "execution_count": null,
      "outputs": [
        {
          "output_type": "execute_result",
          "data": {
            "text/plain": [
              "module"
            ]
          },
          "metadata": {},
          "execution_count": 47
        }
      ]
    },
    {
      "cell_type": "code",
      "source": [
        "(x_train,y_train),(x_test,y_test)=fashion_mnist.load_data()"
      ],
      "metadata": {
        "id": "dnRsh3Hs5buv"
      },
      "execution_count": null,
      "outputs": []
    },
    {
      "cell_type": "markdown",
      "source": [],
      "metadata": {
        "id": "DzCGwYjy5t4P"
      }
    },
    {
      "cell_type": "code",
      "source": [
        "x_train,x_test=x_train/255,x_test/255\n",
        "print(\"x_train shape\",x_train.shape)"
      ],
      "metadata": {
        "colab": {
          "base_uri": "https://localhost:8080/"
        },
        "id": "8k8ZBt175jHn",
        "outputId": "80d917bd-a3e4-44e9-a6a0-f87cae6b37d6"
      },
      "execution_count": null,
      "outputs": [
        {
          "output_type": "stream",
          "name": "stdout",
          "text": [
            "x_train shape (60000, 28, 28)\n"
          ]
        }
      ]
    },
    {
      "cell_type": "code",
      "source": [
        "x_train.max()"
      ],
      "metadata": {
        "colab": {
          "base_uri": "https://localhost:8080/"
        },
        "id": "Mzi-2y3F7CTG",
        "outputId": "ec09f1c0-6271-4a59-fa4d-045ec9f47513"
      },
      "execution_count": null,
      "outputs": [
        {
          "output_type": "execute_result",
          "data": {
            "text/plain": [
              "1.0"
            ]
          },
          "metadata": {},
          "execution_count": 50
        }
      ]
    },
    {
      "cell_type": "code",
      "source": [
        "K=len(set(y_train))\n",
        "print(\"number of classes:\",K)"
      ],
      "metadata": {
        "colab": {
          "base_uri": "https://localhost:8080/"
        },
        "id": "i1nEGAoG7MF2",
        "outputId": "0233163d-3c90-42be-811f-a8ca5923c43b"
      },
      "execution_count": null,
      "outputs": [
        {
          "output_type": "stream",
          "name": "stdout",
          "text": [
            "number of classes: 10\n"
          ]
        }
      ]
    },
    {
      "cell_type": "code",
      "source": [
        "set(y_train)"
      ],
      "metadata": {
        "colab": {
          "base_uri": "https://localhost:8080/"
        },
        "id": "bfBDKIe37Y5O",
        "outputId": "9658cc0f-a79b-44a3-e8d3-d5ad88e9f06a"
      },
      "execution_count": null,
      "outputs": [
        {
          "output_type": "execute_result",
          "data": {
            "text/plain": [
              "{0, 1, 2, 3, 4, 5, 6, 7, 8, 9}"
            ]
          },
          "metadata": {},
          "execution_count": 52
        }
      ]
    },
    {
      "cell_type": "code",
      "source": [
        "x_train.shape[1:]#you need to get 1 more dimension"
      ],
      "metadata": {
        "colab": {
          "base_uri": "https://localhost:8080/"
        },
        "id": "yQY4fAH49GfU",
        "outputId": "3be85d2c-af54-4c84-ce47-d20f7d4caec8"
      },
      "execution_count": null,
      "outputs": [
        {
          "output_type": "execute_result",
          "data": {
            "text/plain": [
              "(28, 28)"
            ]
          },
          "metadata": {},
          "execution_count": 53
        }
      ]
    },
    {
      "cell_type": "code",
      "source": [
        "x_train=np.expand_dims(x_train,-1)\n",
        "x_test=np.expand_dims(x_test,-1)"
      ],
      "metadata": {
        "id": "HxLcd_IXGim7"
      },
      "execution_count": null,
      "outputs": []
    },
    {
      "cell_type": "code",
      "source": [
        "x_train.shape"
      ],
      "metadata": {
        "colab": {
          "base_uri": "https://localhost:8080/"
        },
        "id": "ku56qkmGG5Br",
        "outputId": "d67ed243-72aa-4ca7-8481-cecf507ef1b2"
      },
      "execution_count": null,
      "outputs": [
        {
          "output_type": "execute_result",
          "data": {
            "text/plain": [
              "(60000, 28, 28, 1)"
            ]
          },
          "metadata": {},
          "execution_count": 55
        }
      ]
    },
    {
      "cell_type": "code",
      "source": [
        "#BUILD THE MODEL\n",
        "\n",
        "i=Input(shape=x_train[0].shape)\n",
        "x=Conv2D(32,(3, 3),strides=2,activation=\"relu\")(i)\n",
        "x=Conv2D(64,(3, 3),strides=2,activation=\"relu\")(x)\n",
        "x=Conv2D(128,(3, 3),strides=2,activation=\"relu\")(x)\n",
        "x=Flatten()(x)\n",
        "x=Dropout(0.2)(x)\n",
        "x=Dense(512,activation=\"relu\")(x)\n",
        "x=Dropout(0.2)(x)\n",
        "x=Dense(K,activation=\"softmax\")(x)\n",
        "\n",
        "model=Model(i,x)\n",
        "\n"
      ],
      "metadata": {
        "id": "H7ZJnQSy7cAm"
      },
      "execution_count": null,
      "outputs": []
    },
    {
      "cell_type": "code",
      "source": [
        "#COMPILE AND FIT THE MODEL\n",
        "model.compile(optimizer=\"adam\",\n",
        "              loss=\"sparse_categorical_crossentropy\",\n",
        "              metrics=[\"accuracy\"])\n",
        "#FIT THE MODEL\n",
        "\n",
        "r=model.fit(x_train,y_train,validation_data=(x_test,y_test),epochs=15)"
      ],
      "metadata": {
        "colab": {
          "base_uri": "https://localhost:8080/",
          "height": 234
        },
        "id": "2k9-eerE8y_H",
        "outputId": "c71ebe30-2890-481e-e3e2-04649a0027d8"
      },
      "execution_count": null,
      "outputs": [
        {
          "output_type": "error",
          "ename": "NameError",
          "evalue": "ignored",
          "traceback": [
            "\u001b[0;31m---------------------------------------------------------------------------\u001b[0m",
            "\u001b[0;31mNameError\u001b[0m                                 Traceback (most recent call last)",
            "\u001b[0;32m<ipython-input-1-69369d6c75b5>\u001b[0m in \u001b[0;36m<module>\u001b[0;34m()\u001b[0m\n\u001b[1;32m      1\u001b[0m \u001b[0;31m#COMPILE AND FIT THE MODEL\u001b[0m\u001b[0;34m\u001b[0m\u001b[0;34m\u001b[0m\u001b[0;34m\u001b[0m\u001b[0m\n\u001b[0;32m----> 2\u001b[0;31m model.compile(optimizer=\"adam\",\n\u001b[0m\u001b[1;32m      3\u001b[0m               \u001b[0mloss\u001b[0m\u001b[0;34m=\u001b[0m\u001b[0;34m\"sparse_categorical_crossentropy\"\u001b[0m\u001b[0;34m,\u001b[0m\u001b[0;34m\u001b[0m\u001b[0;34m\u001b[0m\u001b[0m\n\u001b[1;32m      4\u001b[0m               metrics=[\"accuracy\"])\n\u001b[1;32m      5\u001b[0m \u001b[0;31m#FIT THE MODEL\u001b[0m\u001b[0;34m\u001b[0m\u001b[0;34m\u001b[0m\u001b[0;34m\u001b[0m\u001b[0m\n",
            "\u001b[0;31mNameError\u001b[0m: name 'model' is not defined"
          ]
        }
      ]
    },
    {
      "cell_type": "code",
      "source": [
        "#PLOT LOSS PER ITERATION\n",
        "import matplotlib.pyplot as plt\n",
        "plt.plot(r.history[\"loss\"],label=\"loss\")\n",
        "plt.plot(r.history[\"val_loss\"],label=\"val_loss\")\n",
        "plt.legend()"
      ],
      "metadata": {
        "id": "Lix4XxqqHFQy"
      },
      "execution_count": null,
      "outputs": []
    },
    {
      "cell_type": "code",
      "source": [
        "#PLOT THE ACCURACY PER ITERATION\n",
        "plt.plot(r.history[\"accuracy\"],label=\"acc\")\n",
        "plot.plot(r.history[\"val_accuracy\"],label=\"val_acc\")\n",
        "plt.legend()"
      ],
      "metadata": {
        "colab": {
          "base_uri": "https://localhost:8080/",
          "height": 465
        },
        "id": "xqHJ8_JwHyfe",
        "outputId": "a982acc3-d0ad-4f22-f7fe-b0d041c97581"
      },
      "execution_count": null,
      "outputs": [
        {
          "output_type": "error",
          "ename": "NameError",
          "evalue": "ignored",
          "traceback": [
            "\u001b[0;31m---------------------------------------------------------------------------\u001b[0m",
            "\u001b[0;31mNameError\u001b[0m                                 Traceback (most recent call last)",
            "\u001b[0;32m<ipython-input-58-8f3d7d519544>\u001b[0m in \u001b[0;36m<module>\u001b[0;34m()\u001b[0m\n\u001b[1;32m      1\u001b[0m \u001b[0;31m#PLOT THE ACCURACY PER ITERATION\u001b[0m\u001b[0;34m\u001b[0m\u001b[0;34m\u001b[0m\u001b[0;34m\u001b[0m\u001b[0m\n\u001b[1;32m      2\u001b[0m \u001b[0mplt\u001b[0m\u001b[0;34m.\u001b[0m\u001b[0mplot\u001b[0m\u001b[0;34m(\u001b[0m\u001b[0mr\u001b[0m\u001b[0;34m.\u001b[0m\u001b[0mhistory\u001b[0m\u001b[0;34m[\u001b[0m\u001b[0;34m\"accuracy\"\u001b[0m\u001b[0;34m]\u001b[0m\u001b[0;34m,\u001b[0m\u001b[0mlabel\u001b[0m\u001b[0;34m=\u001b[0m\u001b[0;34m\"acc\"\u001b[0m\u001b[0;34m)\u001b[0m\u001b[0;34m\u001b[0m\u001b[0;34m\u001b[0m\u001b[0m\n\u001b[0;32m----> 3\u001b[0;31m \u001b[0mplot\u001b[0m\u001b[0;34m.\u001b[0m\u001b[0mplot\u001b[0m\u001b[0;34m(\u001b[0m\u001b[0mr\u001b[0m\u001b[0;34m.\u001b[0m\u001b[0mhistory\u001b[0m\u001b[0;34m[\u001b[0m\u001b[0;34m\"val_accuracy\"\u001b[0m\u001b[0;34m]\u001b[0m\u001b[0;34m,\u001b[0m\u001b[0mlabel\u001b[0m\u001b[0;34m=\u001b[0m\u001b[0;34m\"val_acc\"\u001b[0m\u001b[0;34m)\u001b[0m\u001b[0;34m\u001b[0m\u001b[0;34m\u001b[0m\u001b[0m\n\u001b[0m\u001b[1;32m      4\u001b[0m \u001b[0mplt\u001b[0m\u001b[0;34m.\u001b[0m\u001b[0mlegend\u001b[0m\u001b[0;34m(\u001b[0m\u001b[0;34m)\u001b[0m\u001b[0;34m\u001b[0m\u001b[0;34m\u001b[0m\u001b[0m\n",
            "\u001b[0;31mNameError\u001b[0m: name 'plot' is not defined"
          ]
        },
        {
          "output_type": "display_data",
          "data": {
            "text/plain": [
              "<Figure size 432x288 with 1 Axes>"
            ],
            "image/png": "[encoded data removed]"
          },
          "metadata": {
            "needs_background": "light"
          }
        }
      ]
    },
    {
      "cell_type": "code",
      "source": [
        "from sklearn.metrics import confusion_matrix\n",
        "import itertools\n",
        "\n",
        "def plot_confusion_matrix(cm,classes,\n",
        "                          normalize=False,\n",
        "                          title=\"Confusio Matrix\",\n",
        "                          cmap=plt.cm.Blues):\n",
        "  #This prints and plots the condusion matrix. normalization\n",
        "  #can be applied by setting normalize=True\n",
        "\n",
        "  if normalize:\n",
        "\n",
        "    cm=cm.astype(\"float\")/cm.sum(axis=1)[:,np.newaxis]\n",
        "    print(\"Normalized confusion matrix\")\n",
        "\n",
        "  else:\n",
        "    print(\"confusion matrix without normalization\")\n",
        "\n",
        "  print(cm)\n",
        "\n",
        "  plt.imshow(cm,interpolation=\"nearest\",cmap=cmap)\n",
        "  plt.title(title)\n",
        "  plt.colorbar()\n",
        "  tick_marks=np.arange(len(classes))\n",
        "  plt.xticks(tick_marks,classes,rotation=45)\n",
        "  plt.yticks(tick_marks,classes)\n",
        "\n",
        "  fmt=\".2f\" if normalize else \"d\"\n",
        "  thresh=cm.max()/2.\n",
        "\n",
        "  for i,j in itertools.product(range(cm.shape[0]),range(cm.shape[1])):\n",
        "    plt.text(j,i, format(cm[i,j],fmt),\n",
        "             horizontalalignment=\"center\",\n",
        "             color=\"white\" if cm[i,j]>thresh else \"black\")\n",
        "    \n",
        "  plt.tight_layout()\n",
        "  plt.ylabel(\"True Label\")\n",
        "  plt.xlabel(\"Predicted Label\")\n",
        "  plt.show()\n",
        "\n",
        "p_test=model.predict(x_test).argmax(axis=1)\n",
        "cm=confusion_matrix(y_test,p_test)\n",
        "plot_confusion_matrix(cm,list(range(10)))"
      ],
      "metadata": {
        "colab": {
          "base_uri": "https://localhost:8080/",
          "height": 502
        },
        "id": "CcNIoL7IIENx",
        "outputId": "dc5e9ece-56bf-46ae-af63-4ec96c40f31d"
      },
      "execution_count": null,
      "outputs": [
        {
          "output_type": "stream",
          "name": "stdout",
          "text": [
            "confusion matrix without normalization\n",
            "[[861   3  29  14   7   2  79   0   5   0]\n",
            " [  4 976   0  13   3   0   2   0   2   0]\n",
            " [ 15   1 841  11  63   0  69   0   0   0]\n",
            " [ 15   3  18 908  33   0  23   0   0   0]\n",
            " [  1   0  47  23 863   0  65   0   1   0]\n",
            " [  0   0   0   2   0 975   0  15   0   8]\n",
            " [120   1  78  24 107   0 661   0   8   1]\n",
            " [  0   0   0   0   0  18   0 964   0  18]\n",
            " [  0   1   5   2  11   2   8   2 968   1]\n",
            " [  0   0   0   0   0   5   1  37   0 957]]\n"
          ]
        },
        {
          "output_type": "display_data",
          "data": {
            "text/plain": [
              "<Figure size 432x288 with 2 Axes>"
            ],
            "image/png": "[encoded data removed]"
          },
          "metadata": {
            "needs_background": "light"
          }
        }
      ]
    },
    {
      "cell_type": "code",
      "source": [
        "labels= '''T-shirt/top\n",
        "Trouser\n",
        "Pullover\n",
        "Dress\n",
        "Coat\n",
        "Sandal\n",
        "Shirt\n",
        "Sneaker\n",
        "Bag\n",
        "Amkel boot'''.split()"
      ],
      "metadata": {
        "id": "3TyUKQLVLSSv"
      },
      "execution_count": null,
      "outputs": []
    },
    {
      "cell_type": "code",
      "source": [
        "#SHOW MISCLASSIFIED EXAMPLES\n",
        "misclassified_idx=np.where(p_test!=y_test)[0]\n",
        "i=np.random.choice(misclassified_idx)\n",
        "plt.imshow(x_test[i].reshape(28,28),cmap=\"gray\")\n",
        "plt.title(\"True Label: %s Predicted: %s\" % (labels[y_test[i]],labels[p_test[i]]));"
      ],
      "metadata": {
        "colab": {
          "base_uri": "https://localhost:8080/",
          "height": 281
        },
        "id": "Q9eUeCr4KZs4",
        "outputId": "21521fda-9581-4a4c-fa46-9b4410a69579"
      },
      "execution_count": null,
      "outputs": [
        {
          "output_type": "display_data",
          "data": {
            "text/plain": [
              "<Figure size 432x288 with 1 Axes>"
            ],
            "image/png": "[encoded data removed]"
          },
          "metadata": {
            "needs_background": "light"
          }
        }
      ]
    },
    {
      "cell_type": "code",
      "source": [],
      "metadata": {
        "id": "UuZ0HqXQLJzx"
      },
      "execution_count": null,
      "outputs": []
    }
  ]
}