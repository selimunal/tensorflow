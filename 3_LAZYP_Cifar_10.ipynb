{
  "nbformat": 4,
  "nbformat_minor": 0,
  "metadata": {
    "colab": {
      "provenance": [],
      "authorship_tag": "ABX9TyPHXqX692SbtMc4dsBrfixp",
      "include_colab_link": true
    },
    "kernelspec": {
      "name": "python3",
      "display_name": "Python 3"
    },
    "language_info": {
      "name": "python"
    }
  },
  "cells": [
    {
      "cell_type": "markdown",
      "metadata": {
        "id": "view-in-github",
        "colab_type": "text"
      },
      "source": [
        "<a href=\"https://colab.research.google.com/github/selimunal/tensorflow/blob/main/3_LAZYP_Cifar_10.ipynb\" target=\"_parent\"><img src=\"https://colab.research.google.com/assets/colab-badge.svg\" alt=\"Open In Colab\"/></a>"
      ]
    },
    {
      "cell_type": "code",
      "execution_count": null,
      "metadata": {
        "id": "oQgv4a7CyDqH"
      },
      "outputs": [],
      "source": [
        "import tensorflow as tf\n",
        "import numpy as np\n",
        "import seaborn as sns\n",
        "import matplotlib.pyplot as plt\n",
        "from tensorflow.keras.layers import Dense,Flatten,Input,Dropout,Conv2D\n",
        "from  tensorflow.keras.models import Sequential,Model"
      ]
    },
    {
      "cell_type": "code",
      "source": [
        "cifar10=tf.keras.datasets.cifar10\n",
        "(x_train,y_train),(x_test,y_test)=cifar10.load_data()"
      ],
      "metadata": {
        "colab": {
          "base_uri": "https://localhost:8080/"
        },
        "id": "WMEQSBTsyaRQ",
        "outputId": "b25e4fd4-bb6e-4adc-8bf2-3e818a8dffe6"
      },
      "execution_count": null,
      "outputs": [
        {
          "output_type": "stream",
          "name": "stdout",
          "text": [
            "Downloading data from https://www.cs.toronto.edu/~kriz/cifar-10-python.tar.gz\n",
            "170500096/170498071 [==============================] - 2s 0us/step\n",
            "170508288/170498071 [==============================] - 2s 0us/step\n"
          ]
        }
      ]
    },
    {
      "cell_type": "code",
      "source": [
        "x_train,x_test=x_train/255,x_test/255\n",
        "print(\"x_train shape\",x_train.shape)"
      ],
      "metadata": {
        "colab": {
          "base_uri": "https://localhost:8080/"
        },
        "id": "YdzpvdWUyiiQ",
        "outputId": "e76e4343-8af2-4acc-db49-c884a67d7469"
      },
      "execution_count": null,
      "outputs": [
        {
          "output_type": "stream",
          "name": "stdout",
          "text": [
            "x_train shape (50000, 32, 32, 3)\n"
          ]
        }
      ]
    },
    {
      "cell_type": "code",
      "source": [
        "y_train,y_test=y_train.flatten(),y_test.flatten()"
      ],
      "metadata": {
        "id": "Xup850jWylt-"
      },
      "execution_count": null,
      "outputs": []
    },
    {
      "cell_type": "code",
      "source": [
        "y_train.shape"
      ],
      "metadata": {
        "colab": {
          "base_uri": "https://localhost:8080/"
        },
        "id": "StJrOVkSy0Au",
        "outputId": "7923b116-e888-48ab-9e08-3e047f34f1ba"
      },
      "execution_count": null,
      "outputs": [
        {
          "output_type": "execute_result",
          "data": {
            "text/plain": [
              "(50000,)"
            ]
          },
          "metadata": {},
          "execution_count": 5
        }
      ]
    },
    {
      "cell_type": "code",
      "source": [
        "x_train.shape"
      ],
      "metadata": {
        "colab": {
          "base_uri": "https://localhost:8080/"
        },
        "id": "uljMXALDy33t",
        "outputId": "1071a3e1-b707-41fc-c642-c2bfa86c88fd"
      },
      "execution_count": null,
      "outputs": [
        {
          "output_type": "execute_result",
          "data": {
            "text/plain": [
              "(50000, 32, 32, 3)"
            ]
          },
          "metadata": {},
          "execution_count": 6
        }
      ]
    },
    {
      "cell_type": "code",
      "source": [
        "K=len(set(y_train))\n",
        "print(\"number of classes:\",K)"
      ],
      "metadata": {
        "colab": {
          "base_uri": "https://localhost:8080/"
        },
        "id": "kgqXWStOy5aN",
        "outputId": "75df25c9-2a7c-4dcd-ae49-1040f8fbc6dc"
      },
      "execution_count": null,
      "outputs": [
        {
          "output_type": "stream",
          "name": "stdout",
          "text": [
            "number of classes: 10\n"
          ]
        }
      ]
    },
    {
      "cell_type": "code",
      "source": [
        "#BUILD THE MODEL\n",
        "\n",
        "i=Input(shape=x_train[0].shape)\n",
        "x=Conv2D(32,(3, 3),strides=2,activation=\"relu\")(i)\n",
        "x=Conv2D(64,(3, 3),strides=2,activation=\"relu\")(x)\n",
        "x=Conv2D(128,(3, 3),strides=2,activation=\"relu\")(x)\n",
        "x=Flatten()(x)\n",
        "x=Dropout(0.2)(x)\n",
        "x=Dense(512,activation=\"relu\")(x)\n",
        "x=Dropout(0.2)(x)\n",
        "x=Dense(K,activation=\"softmax\")(x)\n",
        "\n",
        "model=Model(i,x)\n",
        "\n"
      ],
      "metadata": {
        "id": "9PPlJC4yy9sm"
      },
      "execution_count": null,
      "outputs": []
    },
    {
      "cell_type": "code",
      "source": [
        "#COMPILE AND FIT THE MODEL\n",
        "model.compile(optimizer=\"adam\",\n",
        "              loss=\"sparse_categorical_crossentropy\",\n",
        "              metrics=[\"accuracy\"])\n",
        "#FIT THE MODEL\n",
        "\n",
        "r=model.fit(x_train,y_train,validation_data=(x_test,y_test),epochs=15)"
      ],
      "metadata": {
        "colab": {
          "base_uri": "https://localhost:8080/"
        },
        "id": "bz_amtZPy_ht",
        "outputId": "93c4c586-134a-4393-ba35-7af139211321"
      },
      "execution_count": null,
      "outputs": [
        {
          "output_type": "stream",
          "name": "stdout",
          "text": [
            "Epoch 1/15\n",
            "1563/1563 [==============================] - 38s 24ms/step - loss: 1.5176 - accuracy: 0.4501 - val_loss: 1.2431 - val_accuracy: 0.5516\n",
            "Epoch 2/15\n",
            "1563/1563 [==============================] - 36s 23ms/step - loss: 1.1968 - accuracy: 0.5725 - val_loss: 1.0730 - val_accuracy: 0.6151\n",
            "Epoch 3/15\n",
            "1563/1563 [==============================] - 36s 23ms/step - loss: 1.0430 - accuracy: 0.6298 - val_loss: 1.0275 - val_accuracy: 0.6331\n",
            "Epoch 4/15\n",
            "1563/1563 [==============================] - 36s 23ms/step - loss: 0.9272 - accuracy: 0.6705 - val_loss: 0.9332 - val_accuracy: 0.6722\n",
            "Epoch 5/15\n",
            "1563/1563 [==============================] - 36s 23ms/step - loss: 0.8350 - accuracy: 0.7039 - val_loss: 0.8938 - val_accuracy: 0.6877\n",
            "Epoch 6/15\n",
            "1563/1563 [==============================] - 36s 23ms/step - loss: 0.7589 - accuracy: 0.7296 - val_loss: 0.8820 - val_accuracy: 0.6927\n",
            "Epoch 7/15\n",
            "1563/1563 [==============================] - 36s 23ms/step - loss: 0.6872 - accuracy: 0.7565 - val_loss: 0.8778 - val_accuracy: 0.6982\n",
            "Epoch 8/15\n",
            "1563/1563 [==============================] - 36s 23ms/step - loss: 0.6262 - accuracy: 0.7788 - val_loss: 0.8772 - val_accuracy: 0.7027\n",
            "Epoch 9/15\n",
            "1563/1563 [==============================] - 36s 23ms/step - loss: 0.5720 - accuracy: 0.7970 - val_loss: 0.9107 - val_accuracy: 0.6941\n",
            "Epoch 10/15\n",
            "1563/1563 [==============================] - 36s 23ms/step - loss: 0.5265 - accuracy: 0.8129 - val_loss: 0.9468 - val_accuracy: 0.6938\n",
            "Epoch 11/15\n",
            "1563/1563 [==============================] - 36s 23ms/step - loss: 0.4866 - accuracy: 0.8259 - val_loss: 0.9223 - val_accuracy: 0.7040\n",
            "Epoch 12/15\n",
            "1563/1563 [==============================] - 36s 23ms/step - loss: 0.4395 - accuracy: 0.8425 - val_loss: 0.9584 - val_accuracy: 0.6948\n",
            "Epoch 13/15\n",
            "1563/1563 [==============================] - 37s 24ms/step - loss: 0.4149 - accuracy: 0.8496 - val_loss: 0.9529 - val_accuracy: 0.7052\n",
            "Epoch 14/15\n",
            "1563/1563 [==============================] - 37s 23ms/step - loss: 0.3890 - accuracy: 0.8601 - val_loss: 0.9861 - val_accuracy: 0.6962\n",
            "Epoch 15/15\n",
            "1563/1563 [==============================] - 36s 23ms/step - loss: 0.3677 - accuracy: 0.8694 - val_loss: 0.9930 - val_accuracy: 0.7064\n"
          ]
        }
      ]
    },
    {
      "cell_type": "code",
      "source": [
        "#PLOT LOSS PER ITERATION\n",
        "import matplotlib.pyplot as plt\n",
        "plt.plot(r.history[\"loss\"],label=\"loss\")\n",
        "plt.plot(r.history[\"val_loss\"],label=\"val_loss\")\n",
        "plt.legend()"
      ],
      "metadata": {
        "colab": {
          "base_uri": "https://localhost:8080/",
          "height": 282
        },
        "id": "jOG10DvJzfbB",
        "outputId": "4136c5b0-369a-44d4-bee5-c6295018958c"
      },
      "execution_count": null,
      "outputs": [
        {
          "output_type": "execute_result",
          "data": {
            "text/plain": [
              "<matplotlib.legend.Legend at 0x7f2e7dd98ad0>"
            ]
          },
          "metadata": {},
          "execution_count": 10
        },
        {
          "output_type": "display_data",
          "data": {
            "text/plain": [
              "<Figure size 432x288 with 1 Axes>"
            ],
            "image/png": "[encoded data removed]"
          },
          "metadata": {
            "needs_background": "light"
          }
        }
      ]
    },
    {
      "cell_type": "code",
      "source": [
        "#PLOT THE ACCURACY PER ITERATION\n",
        "plt.plot(r.history[\"accuracy\"],label=\"acc\")\n",
        "plt.plot(r.history[\"val_accuracy\"],label=\"val_acc\")\n",
        "plt.legend()"
      ],
      "metadata": {
        "colab": {
          "base_uri": "https://localhost:8080/",
          "height": 282
        },
        "id": "Yf5DfzKB25uj",
        "outputId": "0119932a-00ad-4a1b-bdba-bf859ccc7b70"
      },
      "execution_count": null,
      "outputs": [
        {
          "output_type": "execute_result",
          "data": {
            "text/plain": [
              "<matplotlib.legend.Legend at 0x7f2e7ae7d050>"
            ]
          },
          "metadata": {},
          "execution_count": 12
        },
        {
          "output_type": "display_data",
          "data": {
            "text/plain": [
              "<Figure size 432x288 with 1 Axes>"
            ],
            "image/png": "[encoded data removed]"
          },
          "metadata": {
            "needs_background": "light"
          }
        }
      ]
    },
    {
      "cell_type": "code",
      "source": [
        "from sklearn.metrics import confusion_matrix\n",
        "import itertools\n",
        "\n",
        "def plot_confusion_matrix(cm,classes,\n",
        "                          normalize=False,\n",
        "                          title=\"Confusion Matrix\",\n",
        "                          cmap=plt.cm.Blues):\n",
        "  #This prints and plots the condusion matrix. normalization\n",
        "  #can be applied by setting normalize=True\n",
        "\n",
        "  if normalize:\n",
        "\n",
        "    cm=cm.astype(\"float\")/cm.sum(axis=1)[:,np.newaxis]\n",
        "    print(\"Normalized confusion matrix\")\n",
        "\n",
        "  else:\n",
        "    print(\"confusion matrix without normalization\")\n",
        "\n",
        "  print(cm)\n",
        "\n",
        "  plt.imshow(cm,interpolation=\"nearest\",cmap=cmap)\n",
        "  plt.title(title)\n",
        "  plt.colorbar()\n",
        "  tick_marks=np.arange(len(classes))\n",
        "  plt.xticks(tick_marks,classes,rotation=45)\n",
        "  plt.yticks(tick_marks,classes)\n",
        "\n",
        "  fmt=\".2f\" if normalize else \"d\"\n",
        "  thresh=cm.max()/2.\n",
        "\n",
        "  for i,j in itertools.product(range(cm.shape[0]),range(cm.shape[1])):\n",
        "    plt.text(j,i, format(cm[i,j],fmt),\n",
        "             horizontalalignment=\"center\",\n",
        "             color=\"white\" if cm[i,j]>thresh else \"black\")\n",
        "    \n",
        "  plt.tight_layout()\n",
        "  plt.ylabel(\"True Label\")\n",
        "  plt.xlabel(\"Predicted Label\")\n",
        "  plt.show()\n",
        "\n",
        "p_test=model.predict(x_test).argmax(axis=1)\n",
        "cm=confusion_matrix(y_test,p_test)\n",
        "plot_confusion_matrix(cm,list(range(10)))"
      ],
      "metadata": {
        "colab": {
          "base_uri": "https://localhost:8080/",
          "height": 502
        },
        "id": "ISw07k-R272Y",
        "outputId": "670e2620-05e2-4daa-cf4b-853cf77ab855"
      },
      "execution_count": null,
      "outputs": [
        {
          "output_type": "stream",
          "name": "stdout",
          "text": [
            "confusion matrix without normalization\n",
            "[[780  26  30  15  16  11  11  18  51  42]\n",
            " [ 14 825   4   4   3   3   4   3  15 125]\n",
            " [ 71   4 574  53 105  74  45  48  12  14]\n",
            " [ 22   6  60 479  74 188  51  75  14  31]\n",
            " [ 18  10  70  60 632  38  30 118  17   7]\n",
            " [ 16   6  35 159  49 619  18  74  14  10]\n",
            " [ 11  10  33  80  51  23 736  25  12  19]\n",
            " [ 14   3  18  30  47  51   4 811   1  21]\n",
            " [ 82  41  12  15   6   6   1   8 788  41]\n",
            " [ 28  76   4  10   8   8   5  22  19 820]]\n"
          ]
        },
        {
          "output_type": "display_data",
          "data": {
            "text/plain": [
              "<Figure size 432x288 with 2 Axes>"
            ],
            "image/png": "[encoded data removed]"
          },
          "metadata": {
            "needs_background": "light"
          }
        }
      ]
    },
    {
      "cell_type": "code",
      "source": [
        "labels= '''airplane\n",
        "automobile\n",
        "bird\n",
        "cat\n",
        "deer\n",
        "dog\n",
        "frog\n",
        "horse\n",
        "ship\n",
        "truck'''.split()"
      ],
      "metadata": {
        "id": "_GJ9WpQU3D95"
      },
      "execution_count": null,
      "outputs": []
    },
    {
      "cell_type": "code",
      "source": [
        "#SHOW MISCLASSIFIED EXAMPLES\n",
        "misclassified_idx=np.where(p_test!=y_test)[0]\n",
        "i=np.random.choice(misclassified_idx)\n",
        "plt.imshow(x_test[i],cmap=\"gray\")\n",
        "plt.title(\"True Label: %s Predicted: %s\" % (labels[y_test[i]],labels[p_test[i]]));"
      ],
      "metadata": {
        "colab": {
          "base_uri": "https://localhost:8080/",
          "height": 281
        },
        "id": "Edmha4_d3YlZ",
        "outputId": "556500a6-e490-4d0b-b128-daef6bef3a2d"
      },
      "execution_count": null,
      "outputs": [
        {
          "output_type": "display_data",
          "data": {
            "text/plain": [
              "<Figure size 432x288 with 1 Axes>"
            ],
            "image/png": "[encoded data removed]"
          },
          "metadata": {
            "needs_background": "light"
          }
        }
      ]
    },
    {
      "cell_type": "code",
      "source": [],
      "metadata": {
        "id": "z8Z918eS3bBR"
      },
      "execution_count": null,
      "outputs": []
    }
  ]
}