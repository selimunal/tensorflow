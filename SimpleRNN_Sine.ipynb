{
  "nbformat": 4,
  "nbformat_minor": 0,
  "metadata": {
    "colab": {
      "provenance": [],
      "authorship_tag": "ABX9TyOZ51RCMQXgzf1tD1xT+J2D",
      "include_colab_link": true
    },
    "kernelspec": {
      "name": "python3",
      "display_name": "Python 3"
    },
    "language_info": {
      "name": "python"
    }
  },
  "cells": [
    {
      "cell_type": "markdown",
      "metadata": {
        "id": "view-in-github",
        "colab_type": "text"
      },
      "source": [
        "<a href=\"https://colab.research.google.com/github/selimunal/tensorflow/blob/main/SimpleRNN_Sine.ipynb\" target=\"_parent\"><img src=\"https://colab.research.google.com/assets/colab-badge.svg\" alt=\"Open In Colab\"/></a>"
      ]
    },
    {
      "cell_type": "code",
      "execution_count": null,
      "metadata": {
        "colab": {
          "base_uri": "https://localhost:8080/"
        },
        "id": "VWVtfIGntW6r",
        "outputId": "541bac1a-8d5a-496c-ede5-be678838f8b5"
      },
      "outputs": [
        {
          "output_type": "stream",
          "name": "stdout",
          "text": [
            "2.9.2\n"
          ]
        }
      ],
      "source": [
        "import tensorflow as tf\n",
        "print(tf.__version__)"
      ]
    },
    {
      "cell_type": "code",
      "source": [
        "from tensorflow.keras.layers import Input,SimpleRNN, Dense, Flatten\n",
        "from tensorflow.keras.models import Model\n",
        "from tensorflow.keras.optimizers import SGD, Adam\n",
        "\n",
        "import numpy as np\n",
        "import pandas as pd\n",
        "import matplotlib.pyplot as plt\n"
      ],
      "metadata": {
        "id": "oRpzeMZ1tf7O"
      },
      "execution_count": null,
      "outputs": []
    },
    {
      "cell_type": "code",
      "source": [
        "#making original data\n",
        "series=np.sin(0.1*np.arange(200)) +np.random.randn(200)*0.1\n",
        "#plot\n",
        "plt.plot(series)\n",
        "plt.show()"
      ],
      "metadata": {
        "colab": {
          "base_uri": "https://localhost:8080/",
          "height": 265
        },
        "id": "mWQDn05Tt7zF",
        "outputId": "b4b320ca-0bff-488c-c507-ad459b0732ff"
      },
      "execution_count": null,
      "outputs": [
        {
          "output_type": "display_data",
          "data": {
            "text/plain": [
              "<Figure size 432x288 with 1 Axes>"
            ],
            "image/png": "[encoded data removed]"
          },
          "metadata": {
            "needs_background": "light"
          }
        }
      ]
    },
    {
      "cell_type": "code",
      "source": [
        "#building the dataset\n",
        "T=10\n",
        "D=1\n",
        "X=[]\n",
        "Y=[]\n",
        "for t in range(len(series)-T):\n",
        "  x=series[t:t+T]\n",
        "  X.append(x)\n",
        "  y=series[t+T]\n",
        "  Y.append(y)"
      ],
      "metadata": {
        "id": "vhnvVlMXuQ4w"
      },
      "execution_count": null,
      "outputs": []
    },
    {
      "cell_type": "code",
      "source": [
        "X=np.array(X).reshape(-1,T,1) # Data NxTxD\n",
        "Y=np.array(Y)\n",
        "N=len(X)"
      ],
      "metadata": {
        "id": "zxz6aMQruk_D"
      },
      "execution_count": null,
      "outputs": []
    },
    {
      "cell_type": "code",
      "source": [
        "X.shape,Y.shape"
      ],
      "metadata": {
        "colab": {
          "base_uri": "https://localhost:8080/"
        },
        "id": "2gQGt4twu0ys",
        "outputId": "7cb16046-b2e7-4444-9e71-97faac1dec1e"
      },
      "execution_count": null,
      "outputs": [
        {
          "output_type": "execute_result",
          "data": {
            "text/plain": [
              "((190, 10, 1), (190,))"
            ]
          },
          "metadata": {},
          "execution_count": 60
        }
      ]
    },
    {
      "cell_type": "code",
      "source": [
        "  # Building RNN model\n",
        "  i=Input(shape=(T,1))\n",
        "  x=SimpleRNN(5,activation=\"relu\")(i)\n",
        "  x=Dense(1)(x)\n",
        "  model=Model(i,x)\n",
        "  model.compile(\n",
        "      loss=\"mse\",\n",
        "      optimizer=Adam(lr=0.1)\n",
        "  )"
      ],
      "metadata": {
        "id": "Wg_pp_LvvFGI",
        "colab": {
          "base_uri": "https://localhost:8080/"
        },
        "outputId": "2b574580-4c90-40a6-f8d6-3ae040c3da2d"
      },
      "execution_count": null,
      "outputs": [
        {
          "output_type": "stream",
          "name": "stderr",
          "text": [
            "/usr/local/lib/python3.7/dist-packages/keras/optimizers/optimizer_v2/adam.py:110: UserWarning: The `lr` argument is deprecated, use `learning_rate` instead.\n",
            "  super(Adam, self).__init__(name, **kwargs)\n"
          ]
        }
      ]
    },
    {
      "cell_type": "code",
      "source": [
        "#train the RNN\n",
        "r=model.fit(\n",
        "    X[:-N//2],Y[:-N//2],\n",
        "    epochs=80,\n",
        "    validation_data=(X[-N//2:],Y[-N//2:])\n",
        ")"
      ],
      "metadata": {
        "colab": {
          "base_uri": "https://localhost:8080/"
        },
        "id": "lSXBNQHv9Ml7",
        "outputId": "62dc0c36-739f-484a-bf9c-fd8a9e231991"
      },
      "execution_count": null,
      "outputs": [
        {
          "output_type": "stream",
          "name": "stdout",
          "text": [
            "Epoch 1/80\n",
            "3/3 [==============================] - 1s 122ms/step - loss: 0.5816 - val_loss: 0.2270\n",
            "Epoch 2/80\n",
            "3/3 [==============================] - 0s 17ms/step - loss: 0.2528 - val_loss: 0.1109\n",
            "Epoch 3/80\n",
            "3/3 [==============================] - 0s 21ms/step - loss: 0.1326 - val_loss: 0.0693\n",
            "Epoch 4/80\n",
            "3/3 [==============================] - 0s 31ms/step - loss: 0.0833 - val_loss: 0.0596\n",
            "Epoch 5/80\n",
            "3/3 [==============================] - 0s 23ms/step - loss: 0.0482 - val_loss: 0.0300\n",
            "Epoch 6/80\n",
            "3/3 [==============================] - 0s 17ms/step - loss: 0.0358 - val_loss: 0.0235\n",
            "Epoch 7/80\n",
            "3/3 [==============================] - 0s 24ms/step - loss: 0.0239 - val_loss: 0.0299\n",
            "Epoch 8/80\n",
            "3/3 [==============================] - 0s 18ms/step - loss: 0.0272 - val_loss: 0.0281\n",
            "Epoch 9/80\n",
            "3/3 [==============================] - 0s 24ms/step - loss: 0.0257 - val_loss: 0.0256\n",
            "Epoch 10/80\n",
            "3/3 [==============================] - 0s 20ms/step - loss: 0.0255 - val_loss: 0.0244\n",
            "Epoch 11/80\n",
            "3/3 [==============================] - 0s 29ms/step - loss: 0.0251 - val_loss: 0.0234\n",
            "Epoch 12/80\n",
            "3/3 [==============================] - 0s 19ms/step - loss: 0.0251 - val_loss: 0.0278\n",
            "Epoch 13/80\n",
            "3/3 [==============================] - 0s 19ms/step - loss: 0.0255 - val_loss: 0.0246\n",
            "Epoch 14/80\n",
            "3/3 [==============================] - 0s 28ms/step - loss: 0.0222 - val_loss: 0.0323\n",
            "Epoch 15/80\n",
            "3/3 [==============================] - 0s 27ms/step - loss: 0.0267 - val_loss: 0.0235\n",
            "Epoch 16/80\n",
            "3/3 [==============================] - 0s 27ms/step - loss: 0.0237 - val_loss: 0.0258\n",
            "Epoch 17/80\n",
            "3/3 [==============================] - 0s 19ms/step - loss: 0.0231 - val_loss: 0.0242\n",
            "Epoch 18/80\n",
            "3/3 [==============================] - 0s 28ms/step - loss: 0.0284 - val_loss: 0.0230\n",
            "Epoch 19/80\n",
            "3/3 [==============================] - 0s 21ms/step - loss: 0.0259 - val_loss: 0.0259\n",
            "Epoch 20/80\n",
            "3/3 [==============================] - 0s 21ms/step - loss: 0.0251 - val_loss: 0.0225\n",
            "Epoch 21/80\n",
            "3/3 [==============================] - 0s 19ms/step - loss: 0.0252 - val_loss: 0.0319\n",
            "Epoch 22/80\n",
            "3/3 [==============================] - 0s 19ms/step - loss: 0.0230 - val_loss: 0.0255\n",
            "Epoch 23/80\n",
            "3/3 [==============================] - 0s 21ms/step - loss: 0.0244 - val_loss: 0.0327\n",
            "Epoch 24/80\n",
            "3/3 [==============================] - 0s 22ms/step - loss: 0.0255 - val_loss: 0.0225\n",
            "Epoch 25/80\n",
            "3/3 [==============================] - 0s 20ms/step - loss: 0.0223 - val_loss: 0.0246\n",
            "Epoch 26/80\n",
            "3/3 [==============================] - 0s 28ms/step - loss: 0.0228 - val_loss: 0.0227\n",
            "Epoch 27/80\n",
            "3/3 [==============================] - 0s 22ms/step - loss: 0.0243 - val_loss: 0.0242\n",
            "Epoch 28/80\n",
            "3/3 [==============================] - 0s 22ms/step - loss: 0.0226 - val_loss: 0.0245\n",
            "Epoch 29/80\n",
            "3/3 [==============================] - 0s 21ms/step - loss: 0.0219 - val_loss: 0.0229\n",
            "Epoch 30/80\n",
            "3/3 [==============================] - 0s 19ms/step - loss: 0.0232 - val_loss: 0.0277\n",
            "Epoch 31/80\n",
            "3/3 [==============================] - 0s 30ms/step - loss: 0.0217 - val_loss: 0.0227\n",
            "Epoch 32/80\n",
            "3/3 [==============================] - 0s 22ms/step - loss: 0.0227 - val_loss: 0.0287\n",
            "Epoch 33/80\n",
            "3/3 [==============================] - 0s 21ms/step - loss: 0.0236 - val_loss: 0.0226\n",
            "Epoch 34/80\n",
            "3/3 [==============================] - 0s 33ms/step - loss: 0.0238 - val_loss: 0.0257\n",
            "Epoch 35/80\n",
            "3/3 [==============================] - 0s 19ms/step - loss: 0.0245 - val_loss: 0.0224\n",
            "Epoch 36/80\n",
            "3/3 [==============================] - 0s 20ms/step - loss: 0.0257 - val_loss: 0.0248\n",
            "Epoch 37/80\n",
            "3/3 [==============================] - 0s 20ms/step - loss: 0.0239 - val_loss: 0.0245\n",
            "Epoch 38/80\n",
            "3/3 [==============================] - 0s 19ms/step - loss: 0.0217 - val_loss: 0.0225\n",
            "Epoch 39/80\n",
            "3/3 [==============================] - 0s 19ms/step - loss: 0.0226 - val_loss: 0.0261\n",
            "Epoch 40/80\n",
            "3/3 [==============================] - 0s 18ms/step - loss: 0.0228 - val_loss: 0.0227\n",
            "Epoch 41/80\n",
            "3/3 [==============================] - 0s 26ms/step - loss: 0.0230 - val_loss: 0.0249\n",
            "Epoch 42/80\n",
            "3/3 [==============================] - 0s 17ms/step - loss: 0.0218 - val_loss: 0.0230\n",
            "Epoch 43/80\n",
            "3/3 [==============================] - 0s 20ms/step - loss: 0.0224 - val_loss: 0.0261\n",
            "Epoch 44/80\n",
            "3/3 [==============================] - 0s 17ms/step - loss: 0.0224 - val_loss: 0.0224\n",
            "Epoch 45/80\n",
            "3/3 [==============================] - 0s 23ms/step - loss: 0.0227 - val_loss: 0.0241\n",
            "Epoch 46/80\n",
            "3/3 [==============================] - 0s 20ms/step - loss: 0.0240 - val_loss: 0.0224\n",
            "Epoch 47/80\n",
            "3/3 [==============================] - 0s 17ms/step - loss: 0.0308 - val_loss: 0.0291\n",
            "Epoch 48/80\n",
            "3/3 [==============================] - 0s 27ms/step - loss: 0.0302 - val_loss: 0.0227\n",
            "Epoch 49/80\n",
            "3/3 [==============================] - 0s 29ms/step - loss: 0.0249 - val_loss: 0.0242\n",
            "Epoch 50/80\n",
            "3/3 [==============================] - 0s 18ms/step - loss: 0.0234 - val_loss: 0.0371\n",
            "Epoch 51/80\n",
            "3/3 [==============================] - 0s 26ms/step - loss: 0.0236 - val_loss: 0.0236\n",
            "Epoch 52/80\n",
            "3/3 [==============================] - 0s 25ms/step - loss: 0.0243 - val_loss: 0.0309\n",
            "Epoch 53/80\n",
            "3/3 [==============================] - 0s 21ms/step - loss: 0.0257 - val_loss: 0.0251\n",
            "Epoch 54/80\n",
            "3/3 [==============================] - 0s 20ms/step - loss: 0.0248 - val_loss: 0.0254\n",
            "Epoch 55/80\n",
            "3/3 [==============================] - 0s 23ms/step - loss: 0.0233 - val_loss: 0.0228\n",
            "Epoch 56/80\n",
            "3/3 [==============================] - 0s 28ms/step - loss: 0.0226 - val_loss: 0.0235\n",
            "Epoch 57/80\n",
            "3/3 [==============================] - 0s 23ms/step - loss: 0.0239 - val_loss: 0.0241\n",
            "Epoch 58/80\n",
            "3/3 [==============================] - 0s 17ms/step - loss: 0.0263 - val_loss: 0.0234\n",
            "Epoch 59/80\n",
            "3/3 [==============================] - 0s 26ms/step - loss: 0.0236 - val_loss: 0.0242\n",
            "Epoch 60/80\n",
            "3/3 [==============================] - 0s 30ms/step - loss: 0.0219 - val_loss: 0.0226\n",
            "Epoch 61/80\n",
            "3/3 [==============================] - 0s 27ms/step - loss: 0.0222 - val_loss: 0.0251\n",
            "Epoch 62/80\n",
            "3/3 [==============================] - 0s 26ms/step - loss: 0.0224 - val_loss: 0.0225\n",
            "Epoch 63/80\n",
            "3/3 [==============================] - 0s 21ms/step - loss: 0.0227 - val_loss: 0.0272\n",
            "Epoch 64/80\n",
            "3/3 [==============================] - 0s 18ms/step - loss: 0.0232 - val_loss: 0.0226\n",
            "Epoch 65/80\n",
            "3/3 [==============================] - 0s 22ms/step - loss: 0.0223 - val_loss: 0.0236\n",
            "Epoch 66/80\n",
            "3/3 [==============================] - 0s 20ms/step - loss: 0.0216 - val_loss: 0.0235\n",
            "Epoch 67/80\n",
            "3/3 [==============================] - 0s 20ms/step - loss: 0.0220 - val_loss: 0.0226\n",
            "Epoch 68/80\n",
            "3/3 [==============================] - 0s 19ms/step - loss: 0.0223 - val_loss: 0.0241\n",
            "Epoch 69/80\n",
            "3/3 [==============================] - 0s 20ms/step - loss: 0.0215 - val_loss: 0.0235\n",
            "Epoch 70/80\n",
            "3/3 [==============================] - 0s 20ms/step - loss: 0.0215 - val_loss: 0.0240\n",
            "Epoch 71/80\n",
            "3/3 [==============================] - 0s 22ms/step - loss: 0.0221 - val_loss: 0.0228\n",
            "Epoch 72/80\n",
            "3/3 [==============================] - 0s 31ms/step - loss: 0.0218 - val_loss: 0.0225\n",
            "Epoch 73/80\n",
            "3/3 [==============================] - 0s 18ms/step - loss: 0.0226 - val_loss: 0.0239\n",
            "Epoch 74/80\n",
            "3/3 [==============================] - 0s 19ms/step - loss: 0.0229 - val_loss: 0.0225\n",
            "Epoch 75/80\n",
            "3/3 [==============================] - 0s 26ms/step - loss: 0.0217 - val_loss: 0.0227\n",
            "Epoch 76/80\n",
            "3/3 [==============================] - 0s 24ms/step - loss: 0.0214 - val_loss: 0.0252\n",
            "Epoch 77/80\n",
            "3/3 [==============================] - 0s 20ms/step - loss: 0.0233 - val_loss: 0.0225\n",
            "Epoch 78/80\n",
            "3/3 [==============================] - 0s 19ms/step - loss: 0.0228 - val_loss: 0.0276\n",
            "Epoch 79/80\n",
            "3/3 [==============================] - 0s 20ms/step - loss: 0.0239 - val_loss: 0.0229\n",
            "Epoch 80/80\n",
            "3/3 [==============================] - 0s 19ms/step - loss: 0.0226 - val_loss: 0.0244\n"
          ]
        }
      ]
    },
    {
      "cell_type": "code",
      "source": [
        "  # Building RNN model\n",
        "  i=Input(shape=(T,1))\n",
        "  x=SimpleRNN(5,activation=\"tanh\")(i)\n",
        "  x=Dense(1)(x)\n",
        "  model=Model(i,x)\n",
        "  model.compile(\n",
        "      loss=\"mse\",\n",
        "      optimizer=Adam(lr=0.1)\n",
        "  )"
      ],
      "metadata": {
        "colab": {
          "base_uri": "https://localhost:8080/"
        },
        "id": "F9aKVqDu96FE",
        "outputId": "e5e15fa6-aeeb-4862-a76d-3119bc3ababb"
      },
      "execution_count": null,
      "outputs": [
        {
          "output_type": "stream",
          "name": "stderr",
          "text": [
            "/usr/local/lib/python3.7/dist-packages/keras/optimizers/optimizer_v2/adam.py:110: UserWarning: The `lr` argument is deprecated, use `learning_rate` instead.\n",
            "  super(Adam, self).__init__(name, **kwargs)\n"
          ]
        }
      ]
    },
    {
      "cell_type": "code",
      "source": [
        "  # Building RNN model\n",
        "  i=Input(shape=(T,1))\n",
        "  x=SimpleRNN(5,activation=None)(i)\n",
        "  x=Dense(1)(x)\n",
        "  model=Model(i,x)\n",
        "  model.compile(\n",
        "      loss=\"mse\",\n",
        "      optimizer=Adam(lr=0.1)\n",
        "  )"
      ],
      "metadata": {
        "id": "Gz2dtXfFA81B"
      },
      "execution_count": null,
      "outputs": []
    },
    {
      "cell_type": "code",
      "source": [
        "#train the RNN\n",
        "r=model.fit(\n",
        "    X[:-N//2],Y[:-N//2], #train set before the future data points\n",
        "    epochs=80,\n",
        "    validation_data=(X[-N//2:],Y[-N//2:]) #future data points\n",
        ")"
      ],
      "metadata": {
        "colab": {
          "base_uri": "https://localhost:8080/"
        },
        "id": "3J1QMUUa9jPN",
        "outputId": "6fea969d-7377-4101-a198-28f47f2c4e0a"
      },
      "execution_count": null,
      "outputs": [
        {
          "output_type": "stream",
          "name": "stdout",
          "text": [
            "Epoch 1/80\n",
            "3/3 [==============================] - 1s 128ms/step - loss: 0.4250 - val_loss: 0.2346\n",
            "Epoch 2/80\n",
            "3/3 [==============================] - 0s 18ms/step - loss: 0.1674 - val_loss: 0.2572\n",
            "Epoch 3/80\n",
            "3/3 [==============================] - 0s 18ms/step - loss: 0.1478 - val_loss: 0.0492\n",
            "Epoch 4/80\n",
            "3/3 [==============================] - 0s 20ms/step - loss: 0.0652 - val_loss: 0.0447\n",
            "Epoch 5/80\n",
            "3/3 [==============================] - 0s 24ms/step - loss: 0.0425 - val_loss: 0.0365\n",
            "Epoch 6/80\n",
            "3/3 [==============================] - 0s 20ms/step - loss: 0.0308 - val_loss: 0.0315\n",
            "Epoch 7/80\n",
            "3/3 [==============================] - 0s 18ms/step - loss: 0.0269 - val_loss: 0.0270\n",
            "Epoch 8/80\n",
            "3/3 [==============================] - 0s 17ms/step - loss: 0.0214 - val_loss: 0.0286\n",
            "Epoch 9/80\n",
            "3/3 [==============================] - 0s 18ms/step - loss: 0.0239 - val_loss: 0.0277\n",
            "Epoch 10/80\n",
            "3/3 [==============================] - 0s 18ms/step - loss: 0.0203 - val_loss: 0.0265\n",
            "Epoch 11/80\n",
            "3/3 [==============================] - 0s 17ms/step - loss: 0.0187 - val_loss: 0.0254\n",
            "Epoch 12/80\n",
            "3/3 [==============================] - 0s 20ms/step - loss: 0.0188 - val_loss: 0.0259\n",
            "Epoch 13/80\n",
            "3/3 [==============================] - 0s 17ms/step - loss: 0.0196 - val_loss: 0.0263\n",
            "Epoch 14/80\n",
            "3/3 [==============================] - 0s 20ms/step - loss: 0.0188 - val_loss: 0.0307\n",
            "Epoch 15/80\n",
            "3/3 [==============================] - 0s 19ms/step - loss: 0.0205 - val_loss: 0.0247\n",
            "Epoch 16/80\n",
            "3/3 [==============================] - 0s 24ms/step - loss: 0.0207 - val_loss: 0.0255\n",
            "Epoch 17/80\n",
            "3/3 [==============================] - 0s 17ms/step - loss: 0.0166 - val_loss: 0.0290\n",
            "Epoch 18/80\n",
            "3/3 [==============================] - 0s 18ms/step - loss: 0.0175 - val_loss: 0.0247\n",
            "Epoch 19/80\n",
            "3/3 [==============================] - 0s 19ms/step - loss: 0.0175 - val_loss: 0.0243\n",
            "Epoch 20/80\n",
            "3/3 [==============================] - 0s 16ms/step - loss: 0.0176 - val_loss: 0.0260\n",
            "Epoch 21/80\n",
            "3/3 [==============================] - 0s 18ms/step - loss: 0.0174 - val_loss: 0.0277\n",
            "Epoch 22/80\n",
            "3/3 [==============================] - 0s 25ms/step - loss: 0.0179 - val_loss: 0.0265\n",
            "Epoch 23/80\n",
            "3/3 [==============================] - 0s 22ms/step - loss: 0.0211 - val_loss: 0.0240\n",
            "Epoch 24/80\n",
            "3/3 [==============================] - 0s 19ms/step - loss: 0.0160 - val_loss: 0.0264\n",
            "Epoch 25/80\n",
            "3/3 [==============================] - 0s 18ms/step - loss: 0.0167 - val_loss: 0.0252\n",
            "Epoch 26/80\n",
            "3/3 [==============================] - 0s 17ms/step - loss: 0.0171 - val_loss: 0.0250\n",
            "Epoch 27/80\n",
            "3/3 [==============================] - 0s 20ms/step - loss: 0.0162 - val_loss: 0.0245\n",
            "Epoch 28/80\n",
            "3/3 [==============================] - 0s 19ms/step - loss: 0.0164 - val_loss: 0.0240\n",
            "Epoch 29/80\n",
            "3/3 [==============================] - 0s 19ms/step - loss: 0.0162 - val_loss: 0.0236\n",
            "Epoch 30/80\n",
            "3/3 [==============================] - 0s 17ms/step - loss: 0.0158 - val_loss: 0.0239\n",
            "Epoch 31/80\n",
            "3/3 [==============================] - 0s 19ms/step - loss: 0.0156 - val_loss: 0.0243\n",
            "Epoch 32/80\n",
            "3/3 [==============================] - 0s 17ms/step - loss: 0.0169 - val_loss: 0.0243\n",
            "Epoch 33/80\n",
            "3/3 [==============================] - 0s 20ms/step - loss: 0.0163 - val_loss: 0.0236\n",
            "Epoch 34/80\n",
            "3/3 [==============================] - 0s 19ms/step - loss: 0.0166 - val_loss: 0.0235\n",
            "Epoch 35/80\n",
            "3/3 [==============================] - 0s 28ms/step - loss: 0.0174 - val_loss: 0.0238\n",
            "Epoch 36/80\n",
            "3/3 [==============================] - 0s 25ms/step - loss: 0.0174 - val_loss: 0.0243\n",
            "Epoch 37/80\n",
            "3/3 [==============================] - 0s 26ms/step - loss: 0.0179 - val_loss: 0.0244\n",
            "Epoch 38/80\n",
            "3/3 [==============================] - 0s 18ms/step - loss: 0.0170 - val_loss: 0.0239\n",
            "Epoch 39/80\n",
            "3/3 [==============================] - 0s 18ms/step - loss: 0.0170 - val_loss: 0.0250\n",
            "Epoch 40/80\n",
            "3/3 [==============================] - 0s 18ms/step - loss: 0.0180 - val_loss: 0.0253\n",
            "Epoch 41/80\n",
            "3/3 [==============================] - 0s 27ms/step - loss: 0.0175 - val_loss: 0.0298\n",
            "Epoch 42/80\n",
            "3/3 [==============================] - 0s 20ms/step - loss: 0.0170 - val_loss: 0.0257\n",
            "Epoch 43/80\n",
            "3/3 [==============================] - 0s 21ms/step - loss: 0.0172 - val_loss: 0.0244\n",
            "Epoch 44/80\n",
            "3/3 [==============================] - 0s 27ms/step - loss: 0.0162 - val_loss: 0.0235\n",
            "Epoch 45/80\n",
            "3/3 [==============================] - 0s 18ms/step - loss: 0.0158 - val_loss: 0.0247\n",
            "Epoch 46/80\n",
            "3/3 [==============================] - 0s 20ms/step - loss: 0.0172 - val_loss: 0.0250\n",
            "Epoch 47/80\n",
            "3/3 [==============================] - 0s 20ms/step - loss: 0.0168 - val_loss: 0.0238\n",
            "Epoch 48/80\n",
            "3/3 [==============================] - 0s 18ms/step - loss: 0.0172 - val_loss: 0.0235\n",
            "Epoch 49/80\n",
            "3/3 [==============================] - 0s 17ms/step - loss: 0.0158 - val_loss: 0.0240\n",
            "Epoch 50/80\n",
            "3/3 [==============================] - 0s 20ms/step - loss: 0.0163 - val_loss: 0.0236\n",
            "Epoch 51/80\n",
            "3/3 [==============================] - 0s 25ms/step - loss: 0.0169 - val_loss: 0.0240\n",
            "Epoch 52/80\n",
            "3/3 [==============================] - 0s 18ms/step - loss: 0.0180 - val_loss: 0.0240\n",
            "Epoch 53/80\n",
            "3/3 [==============================] - 0s 28ms/step - loss: 0.0180 - val_loss: 0.0239\n",
            "Epoch 54/80\n",
            "3/3 [==============================] - 0s 17ms/step - loss: 0.0180 - val_loss: 0.0245\n",
            "Epoch 55/80\n",
            "3/3 [==============================] - 0s 18ms/step - loss: 0.0180 - val_loss: 0.0244\n",
            "Epoch 56/80\n",
            "3/3 [==============================] - 0s 28ms/step - loss: 0.0171 - val_loss: 0.0247\n",
            "Epoch 57/80\n",
            "3/3 [==============================] - 0s 17ms/step - loss: 0.0182 - val_loss: 0.0238\n",
            "Epoch 58/80\n",
            "3/3 [==============================] - 0s 26ms/step - loss: 0.0215 - val_loss: 0.0258\n",
            "Epoch 59/80\n",
            "3/3 [==============================] - 0s 19ms/step - loss: 0.0167 - val_loss: 0.0286\n",
            "Epoch 60/80\n",
            "3/3 [==============================] - 0s 22ms/step - loss: 0.0188 - val_loss: 0.0327\n",
            "Epoch 61/80\n",
            "3/3 [==============================] - 0s 23ms/step - loss: 0.0184 - val_loss: 0.0263\n",
            "Epoch 62/80\n",
            "3/3 [==============================] - 0s 20ms/step - loss: 0.0187 - val_loss: 0.0238\n",
            "Epoch 63/80\n",
            "3/3 [==============================] - 0s 19ms/step - loss: 0.0180 - val_loss: 0.0249\n",
            "Epoch 64/80\n",
            "3/3 [==============================] - 0s 17ms/step - loss: 0.0157 - val_loss: 0.0266\n",
            "Epoch 65/80\n",
            "3/3 [==============================] - 0s 25ms/step - loss: 0.0174 - val_loss: 0.0247\n",
            "Epoch 66/80\n",
            "3/3 [==============================] - 0s 17ms/step - loss: 0.0171 - val_loss: 0.0252\n",
            "Epoch 67/80\n",
            "3/3 [==============================] - 0s 17ms/step - loss: 0.0158 - val_loss: 0.0269\n",
            "Epoch 68/80\n",
            "3/3 [==============================] - 0s 25ms/step - loss: 0.0157 - val_loss: 0.0257\n",
            "Epoch 69/80\n",
            "3/3 [==============================] - 0s 18ms/step - loss: 0.0157 - val_loss: 0.0265\n",
            "Epoch 70/80\n",
            "3/3 [==============================] - 0s 26ms/step - loss: 0.0170 - val_loss: 0.0263\n",
            "Epoch 71/80\n",
            "3/3 [==============================] - 0s 19ms/step - loss: 0.0172 - val_loss: 0.0237\n",
            "Epoch 72/80\n",
            "3/3 [==============================] - 0s 22ms/step - loss: 0.0178 - val_loss: 0.0242\n",
            "Epoch 73/80\n",
            "3/3 [==============================] - 0s 20ms/step - loss: 0.0174 - val_loss: 0.0282\n",
            "Epoch 74/80\n",
            "3/3 [==============================] - 0s 18ms/step - loss: 0.0162 - val_loss: 0.0276\n",
            "Epoch 75/80\n",
            "3/3 [==============================] - 0s 19ms/step - loss: 0.0159 - val_loss: 0.0252\n",
            "Epoch 76/80\n",
            "3/3 [==============================] - 0s 19ms/step - loss: 0.0163 - val_loss: 0.0250\n",
            "Epoch 77/80\n",
            "3/3 [==============================] - 0s 19ms/step - loss: 0.0167 - val_loss: 0.0268\n",
            "Epoch 78/80\n",
            "3/3 [==============================] - 0s 17ms/step - loss: 0.0207 - val_loss: 0.0254\n",
            "Epoch 79/80\n",
            "3/3 [==============================] - 0s 17ms/step - loss: 0.0178 - val_loss: 0.0260\n",
            "Epoch 80/80\n",
            "3/3 [==============================] - 0s 19ms/step - loss: 0.0164 - val_loss: 0.0270\n"
          ]
        }
      ]
    },
    {
      "cell_type": "code",
      "source": [
        "plt.plot(r.history[\"loss\"])\n",
        "plt.plot(r.history[\"val_loss\"])"
      ],
      "metadata": {
        "colab": {
          "base_uri": "https://localhost:8080/",
          "height": 282
        },
        "id": "E04nWIsY9008",
        "outputId": "da40a5e9-57cd-40cd-e26f-532b535483bc"
      },
      "execution_count": null,
      "outputs": [
        {
          "output_type": "execute_result",
          "data": {
            "text/plain": [
              "[<matplotlib.lines.Line2D at 0x7f489e0b3710>]"
            ]
          },
          "metadata": {},
          "execution_count": 87
        },
        {
          "output_type": "display_data",
          "data": {
            "text/plain": [
              "<Figure size 432x288 with 1 Axes>"
            ],
            "image/png": "[encoded data removed]"
          },
          "metadata": {
            "needs_background": "light"
          }
        }
      ]
    },
    {
      "cell_type": "code",
      "source": [
        "  #1 STEP FORCAST\n",
        "  #wrong forcast using true targets\n",
        "  validation_target=Y[-N//2:]\n",
        "  validation_predictions=[]\n",
        "  i=N//2"
      ],
      "metadata": {
        "id": "hLhcEIa9-gRs"
      },
      "execution_count": null,
      "outputs": []
    },
    {
      "cell_type": "code",
      "source": [
        "while len(validation_predictions)<len(validation_target):\n",
        "  p=model.predict(X[i].reshape(1,-1,1))[0,0] #1x1 array\n",
        "  i +=1\n",
        "\n",
        "  validation_predictions.append(p)"
      ],
      "metadata": {
        "colab": {
          "base_uri": "https://localhost:8080/"
        },
        "id": "DcDdMhKp-6ia",
        "outputId": "bf11cf05-615e-4594-a029-0061c99b4ec5"
      },
      "execution_count": null,
      "outputs": [
        {
          "output_type": "stream",
          "name": "stdout",
          "text": [
            "1/1 [==============================] - 0s 164ms/step\n",
            "1/1 [==============================] - 0s 20ms/step\n",
            "1/1 [==============================] - 0s 21ms/step\n",
            "1/1 [==============================] - 0s 22ms/step\n",
            "1/1 [==============================] - 0s 27ms/step\n",
            "1/1 [==============================] - 0s 19ms/step\n",
            "1/1 [==============================] - 0s 22ms/step\n",
            "1/1 [==============================] - 0s 30ms/step\n",
            "1/1 [==============================] - 0s 23ms/step\n",
            "1/1 [==============================] - 0s 22ms/step\n",
            "1/1 [==============================] - 0s 20ms/step\n",
            "1/1 [==============================] - 0s 19ms/step\n",
            "1/1 [==============================] - 0s 18ms/step\n",
            "1/1 [==============================] - 0s 18ms/step\n",
            "1/1 [==============================] - 0s 20ms/step\n",
            "1/1 [==============================] - 0s 19ms/step\n",
            "1/1 [==============================] - 0s 18ms/step\n",
            "1/1 [==============================] - 0s 22ms/step\n",
            "1/1 [==============================] - 0s 19ms/step\n",
            "1/1 [==============================] - 0s 19ms/step\n",
            "1/1 [==============================] - 0s 17ms/step\n",
            "1/1 [==============================] - 0s 18ms/step\n",
            "1/1 [==============================] - 0s 24ms/step\n",
            "1/1 [==============================] - 0s 22ms/step\n",
            "1/1 [==============================] - 0s 20ms/step\n",
            "1/1 [==============================] - 0s 19ms/step\n",
            "1/1 [==============================] - 0s 19ms/step\n",
            "1/1 [==============================] - 0s 19ms/step\n",
            "1/1 [==============================] - 0s 19ms/step\n",
            "1/1 [==============================] - 0s 20ms/step\n",
            "1/1 [==============================] - 0s 26ms/step\n",
            "1/1 [==============================] - 0s 24ms/step\n",
            "1/1 [==============================] - 0s 21ms/step\n",
            "1/1 [==============================] - 0s 24ms/step\n",
            "1/1 [==============================] - 0s 24ms/step\n",
            "1/1 [==============================] - 0s 18ms/step\n",
            "1/1 [==============================] - 0s 25ms/step\n",
            "1/1 [==============================] - 0s 19ms/step\n",
            "1/1 [==============================] - 0s 18ms/step\n",
            "1/1 [==============================] - 0s 19ms/step\n",
            "1/1 [==============================] - 0s 18ms/step\n",
            "1/1 [==============================] - 0s 21ms/step\n",
            "1/1 [==============================] - 0s 19ms/step\n",
            "1/1 [==============================] - 0s 18ms/step\n",
            "1/1 [==============================] - 0s 20ms/step\n",
            "1/1 [==============================] - 0s 20ms/step\n",
            "1/1 [==============================] - 0s 21ms/step\n",
            "1/1 [==============================] - 0s 21ms/step\n",
            "1/1 [==============================] - 0s 19ms/step\n",
            "1/1 [==============================] - 0s 22ms/step\n",
            "1/1 [==============================] - 0s 19ms/step\n",
            "1/1 [==============================] - 0s 20ms/step\n",
            "1/1 [==============================] - 0s 18ms/step\n",
            "1/1 [==============================] - 0s 19ms/step\n",
            "1/1 [==============================] - 0s 22ms/step\n",
            "1/1 [==============================] - 0s 21ms/step\n",
            "1/1 [==============================] - 0s 20ms/step\n",
            "1/1 [==============================] - 0s 19ms/step\n",
            "1/1 [==============================] - 0s 20ms/step\n",
            "1/1 [==============================] - 0s 18ms/step\n",
            "1/1 [==============================] - 0s 24ms/step\n",
            "1/1 [==============================] - 0s 24ms/step\n",
            "1/1 [==============================] - 0s 21ms/step\n",
            "1/1 [==============================] - 0s 20ms/step\n",
            "1/1 [==============================] - 0s 19ms/step\n",
            "1/1 [==============================] - 0s 23ms/step\n",
            "1/1 [==============================] - 0s 22ms/step\n",
            "1/1 [==============================] - 0s 20ms/step\n",
            "1/1 [==============================] - 0s 20ms/step\n",
            "1/1 [==============================] - 0s 21ms/step\n",
            "1/1 [==============================] - 0s 19ms/step\n",
            "1/1 [==============================] - 0s 18ms/step\n",
            "1/1 [==============================] - 0s 20ms/step\n",
            "1/1 [==============================] - 0s 21ms/step\n",
            "1/1 [==============================] - 0s 20ms/step\n",
            "1/1 [==============================] - 0s 20ms/step\n",
            "1/1 [==============================] - 0s 19ms/step\n",
            "1/1 [==============================] - 0s 18ms/step\n",
            "1/1 [==============================] - 0s 19ms/step\n",
            "1/1 [==============================] - 0s 19ms/step\n",
            "1/1 [==============================] - 0s 20ms/step\n",
            "1/1 [==============================] - 0s 21ms/step\n",
            "1/1 [==============================] - 0s 20ms/step\n",
            "1/1 [==============================] - 0s 21ms/step\n",
            "1/1 [==============================] - 0s 21ms/step\n",
            "1/1 [==============================] - 0s 21ms/step\n",
            "1/1 [==============================] - 0s 19ms/step\n",
            "1/1 [==============================] - 0s 18ms/step\n",
            "1/1 [==============================] - 0s 18ms/step\n",
            "1/1 [==============================] - 0s 19ms/step\n",
            "1/1 [==============================] - 0s 20ms/step\n",
            "1/1 [==============================] - 0s 22ms/step\n",
            "1/1 [==============================] - 0s 19ms/step\n",
            "1/1 [==============================] - 0s 19ms/step\n",
            "1/1 [==============================] - 0s 22ms/step\n"
          ]
        }
      ]
    },
    {
      "cell_type": "code",
      "source": [
        "plt.plot(validation_target,label=\"target\")\n",
        "plt.plot(validation_predictions,label=\"predictions\")\n",
        "plt.legend() \n",
        "#THIS IS MISLEADING"
      ],
      "metadata": {
        "colab": {
          "base_uri": "https://localhost:8080/",
          "height": 282
        },
        "id": "8umEqs5z_N_C",
        "outputId": "4b0074e1-8db1-4e2b-b561-f8099f203c68"
      },
      "execution_count": null,
      "outputs": [
        {
          "output_type": "execute_result",
          "data": {
            "text/plain": [
              "<matplotlib.legend.Legend at 0x7f489f73ee90>"
            ]
          },
          "metadata": {},
          "execution_count": 90
        },
        {
          "output_type": "display_data",
          "data": {
            "text/plain": [
              "<Figure size 432x288 with 1 Axes>"
            ],
            "image/png": "[encoded data removed]"
          },
          "metadata": {
            "needs_background": "light"
          }
        }
      ]
    },
    {
      "cell_type": "code",
      "source": [
        "#REAL FORCAST\n",
        "validation_target=Y[-N//2:]\n",
        "validation_predictions=[]\n",
        "\n",
        "#train input\n",
        "last_x=X[-N//2]# 1D array of length T"
      ],
      "metadata": {
        "id": "GkxN6DpD_bRs"
      },
      "execution_count": null,
      "outputs": []
    },
    {
      "cell_type": "code",
      "source": [
        "#@title\n",
        "while len(validation_predictions)<len(validation_target):\n",
        "  p=model.predict(last_x.reshape(1,-1,1))[0,0]\n",
        "\n",
        "  validation_predictions.append(p)\n",
        "\n",
        "  last_x=np.roll(last_x,-1)\n",
        "  last_x[-1]=p"
      ],
      "metadata": {
        "id": "j2CXbO9M_xjh"
      },
      "execution_count": null,
      "outputs": []
    },
    {
      "cell_type": "code",
      "source": [
        "plt.plot(validation_target,label=\" forecast target\")\n",
        "plt.plot(validation_predictions,label=\"forecast predictions\")\n",
        "plt.legend()\n",
        "#with linear paramerets does not perform as well as linear regression\n",
        "#autoregression does this perfectly\n",
        "#RNN has too much flexibility, constrained parameters can be shared so makes it \n",
        "#CNN better, AR2 model works best perfectly fits"
      ],
      "metadata": {
        "colab": {
          "base_uri": "https://localhost:8080/",
          "height": 282
        },
        "id": "XzzhfymEAFLg",
        "outputId": "279be20d-0e5a-4729-d15b-47b7176c3609"
      },
      "execution_count": null,
      "outputs": [
        {
          "output_type": "execute_result",
          "data": {
            "text/plain": [
              "<matplotlib.legend.Legend at 0x7f489b668750>"
            ]
          },
          "metadata": {},
          "execution_count": 93
        },
        {
          "output_type": "display_data",
          "data": {
            "text/plain": [
              "<Figure size 432x288 with 1 Axes>"
            ],
            "image/png": "[encoded data removed]"
          },
          "metadata": {
            "needs_background": "light"
          }
        }
      ]
    },
    {
      "cell_type": "code",
      "source": [
        "#USING NONE ACTIVATION FUNCTION WORKS GOOD\n",
        "#WHY?\n",
        "#NN WITH NO ACTIVATION FUNCTION REDUCES TO LINEAR MODEL\n",
        "#LINEAR MODEL IS GOOD FOR THIS"
      ],
      "metadata": {
        "id": "hjRvTKjEASkg"
      },
      "execution_count": null,
      "outputs": []
    },
    {
      "cell_type": "code",
      "source": [
        "#USE NOISE AS WELL, lINEAR MODEL IS NOT GOOD WITH NOISE\n",
        "# TANH IS NOT GOOD AS WELL\n",
        "#RELU USE: STILL NOT GOOD REPEATING SAME VALUE NOT GOOD MODEL\n"
      ],
      "metadata": {
        "id": "cEoJ_O_vBcpG"
      },
      "execution_count": null,
      "outputs": []
    },
    {
      "cell_type": "code",
      "source": [],
      "metadata": {
        "id": "tI6iK1H_Bl53"
      },
      "execution_count": null,
      "outputs": []
    }
  ]
}