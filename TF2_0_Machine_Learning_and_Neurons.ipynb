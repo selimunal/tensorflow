{
  "nbformat": 4,
  "nbformat_minor": 0,
  "metadata": {
    "colab": {
      "provenance": [],
      "authorship_tag": "ABX9TyNGXjaeOMFGsojssAr4n/rc",
      "include_colab_link": true
    },
    "kernelspec": {
      "name": "python3",
      "display_name": "Python 3"
    },
    "language_info": {
      "name": "python"
    }
  },
  "cells": [
    {
      "cell_type": "markdown",
      "metadata": {
        "id": "view-in-github",
        "colab_type": "text"
      },
      "source": [
        "<a href=\"https://colab.research.google.com/github/selimunal/tensorflow/blob/main/TF2_0_Machine_Learning_and_Neurons.ipynb\" target=\"_parent\"><img src=\"https://colab.research.google.com/assets/colab-badge.svg\" alt=\"Open In Colab\"/></a>"
      ]
    },
    {
      "cell_type": "markdown",
      "metadata": {
        "id": "7XfA9hrKMqVV"
      },
      "source": [
        " **TensorFlow Lecture 1**\n",
        "\n",
        "This is regular text\n",
        "\n",
        "\n",
        "```\n",
        "# This is formatted as code\n",
        "```\n",
        "\n"
      ]
    },
    {
      "cell_type": "code",
      "metadata": {
        "id": "1E-nzZosM6uo"
      },
      "source": [
        "import numpy as np\n",
        "import matplotlib.pyplot as plt\n"
      ],
      "execution_count": null,
      "outputs": []
    },
    {
      "cell_type": "code",
      "metadata": {
        "id": "-9QN92xFNCSO"
      },
      "source": [
        "x = np.linspace(0,10*np.pi,10000)\n",
        "y=np.sin(x)"
      ],
      "execution_count": null,
      "outputs": []
    },
    {
      "cell_type": "code",
      "metadata": {
        "colab": {
          "base_uri": "https://localhost:8080/",
          "height": 282
        },
        "id": "nlLWFI1BNOhE",
        "outputId": "0938d452-626a-4b2b-edd9-acd69bf0db5d"
      },
      "source": [
        "plt.plot(x,y)"
      ],
      "execution_count": null,
      "outputs": [
        {
          "output_type": "execute_result",
          "data": {
            "text/plain": [
              "[<matplotlib.lines.Line2D at 0x7fb6d26f2450>]"
            ]
          },
          "metadata": {},
          "execution_count": 3
        },
        {
          "output_type": "display_data",
          "data": {
            "text/plain": [
              "<Figure size 432x288 with 1 Axes>"
            ],
            "image/png": "[encoded data removed]"
          },
          "metadata": {
            "needs_background": "light"
          }
        }
      ]
    },
    {
      "cell_type": "code",
      "metadata": {
        "id": "ox3RrLz9NVZd"
      },
      "source": [
        "import tensorflow as tf"
      ],
      "execution_count": null,
      "outputs": []
    },
    {
      "cell_type": "code",
      "source": [
        "print(tf.__version__)"
      ],
      "metadata": {
        "colab": {
          "base_uri": "https://localhost:8080/"
        },
        "id": "O1tGD4lwyKH7",
        "outputId": "35f2c162-7ef2-41e5-f685-2dd62126791e"
      },
      "execution_count": null,
      "outputs": [
        {
          "output_type": "stream",
          "name": "stdout",
          "text": [
            "2.8.0\n"
          ]
        }
      ]
    },
    {
      "cell_type": "code",
      "source": [
        "from sklearn.datasets import load_breast_cancer"
      ],
      "metadata": {
        "id": "Het59SH_yNAn"
      },
      "execution_count": null,
      "outputs": []
    },
    {
      "cell_type": "code",
      "source": [
        "data=load_breast_cancer()"
      ],
      "metadata": {
        "id": "TBDixs4myXFH"
      },
      "execution_count": null,
      "outputs": []
    },
    {
      "cell_type": "code",
      "source": [
        "data.keys()"
      ],
      "metadata": {
        "colab": {
          "base_uri": "https://localhost:8080/"
        },
        "id": "b4kuesY-yboW",
        "outputId": "58ed1db3-3937-4522-9170-460a0e14005d"
      },
      "execution_count": null,
      "outputs": [
        {
          "output_type": "execute_result",
          "data": {
            "text/plain": [
              "dict_keys(['data', 'target', 'frame', 'target_names', 'DESCR', 'feature_names', 'filename', 'data_module'])"
            ]
          },
          "metadata": {},
          "execution_count": 8
        }
      ]
    },
    {
      "cell_type": "code",
      "source": [
        "type(data)"
      ],
      "metadata": {
        "colab": {
          "base_uri": "https://localhost:8080/"
        },
        "id": "rv7OFeZBycWW",
        "outputId": "70905727-a021-4e20-ca9a-27ffa334ccb4"
      },
      "execution_count": null,
      "outputs": [
        {
          "output_type": "execute_result",
          "data": {
            "text/plain": [
              "sklearn.utils.Bunch"
            ]
          },
          "metadata": {},
          "execution_count": 9
        }
      ]
    },
    {
      "cell_type": "code",
      "source": [
        "data.data.shape"
      ],
      "metadata": {
        "colab": {
          "base_uri": "https://localhost:8080/"
        },
        "id": "hA4k5yq3yg-3",
        "outputId": "80ae8ea5-7b6b-4893-8e6b-cfc6f2dcf4e4"
      },
      "execution_count": null,
      "outputs": [
        {
          "output_type": "execute_result",
          "data": {
            "text/plain": [
              "(569, 30)"
            ]
          },
          "metadata": {},
          "execution_count": 10
        }
      ]
    },
    {
      "cell_type": "code",
      "source": [
        "data.target_names"
      ],
      "metadata": {
        "colab": {
          "base_uri": "https://localhost:8080/"
        },
        "id": "WsPzn1CtyjTX",
        "outputId": "905c20b8-dee3-4952-a6d2-7b8f86c9ac67"
      },
      "execution_count": null,
      "outputs": [
        {
          "output_type": "execute_result",
          "data": {
            "text/plain": [
              "array(['malignant', 'benign'], dtype='<U9')"
            ]
          },
          "metadata": {},
          "execution_count": 11
        }
      ]
    },
    {
      "cell_type": "code",
      "source": [
        "data.feature_names"
      ],
      "metadata": {
        "colab": {
          "base_uri": "https://localhost:8080/"
        },
        "id": "zBsMncBVzADh",
        "outputId": "088a6528-4a04-40be-a724-37fae114c101"
      },
      "execution_count": null,
      "outputs": [
        {
          "output_type": "execute_result",
          "data": {
            "text/plain": [
              "array(['mean radius', 'mean texture', 'mean perimeter', 'mean area',\n",
              "       'mean smoothness', 'mean compactness', 'mean concavity',\n",
              "       'mean concave points', 'mean symmetry', 'mean fractal dimension',\n",
              "       'radius error', 'texture error', 'perimeter error', 'area error',\n",
              "       'smoothness error', 'compactness error', 'concavity error',\n",
              "       'concave points error', 'symmetry error',\n",
              "       'fractal dimension error', 'worst radius', 'worst texture',\n",
              "       'worst perimeter', 'worst area', 'worst smoothness',\n",
              "       'worst compactness', 'worst concavity', 'worst concave points',\n",
              "       'worst symmetry', 'worst fractal dimension'], dtype='<U23')"
            ]
          },
          "metadata": {},
          "execution_count": 12
        }
      ]
    },
    {
      "cell_type": "code",
      "source": [
        "from sklearn.model_selection import train_test_split"
      ],
      "metadata": {
        "id": "XkVt5ARLzDhw"
      },
      "execution_count": null,
      "outputs": []
    },
    {
      "cell_type": "code",
      "source": [
        "X_train, X_test, y_train, y_test = train_test_split(data.data,data.target,test_size=0.33)\n",
        "N,D=X_train.shape"
      ],
      "metadata": {
        "id": "T_kfmju4zLsH"
      },
      "execution_count": null,
      "outputs": []
    },
    {
      "cell_type": "code",
      "source": [
        "data.target.shape"
      ],
      "metadata": {
        "colab": {
          "base_uri": "https://localhost:8080/"
        },
        "id": "Vi0fs3_rzkp5",
        "outputId": "05da9802-22f4-4830-acc5-92fb4bf77a92"
      },
      "execution_count": null,
      "outputs": [
        {
          "output_type": "execute_result",
          "data": {
            "text/plain": [
              "(569,)"
            ]
          },
          "metadata": {},
          "execution_count": 15
        }
      ]
    },
    {
      "cell_type": "code",
      "source": [
        "#NORMALIZATION\n",
        "from sklearn.preprocessing import StandardScaler\n",
        "scaler=StandardScaler()\n",
        "\n",
        "X_train=scaler.fit_transform(X_train)\n",
        "X_test=scaler.transform(X_test)"
      ],
      "metadata": {
        "id": "MLYu4u9mzm0I"
      },
      "execution_count": null,
      "outputs": []
    },
    {
      "cell_type": "code",
      "source": [
        "#MODEL DEFINITION\n",
        "model=tf.keras.models.Sequential([tf.keras.layers.Input(shape=(D,)),tf.keras.layers.Dense(1,activation='sigmoid')])"
      ],
      "metadata": {
        "id": "rWiYJ_4c026R"
      },
      "execution_count": null,
      "outputs": []
    },
    {
      "cell_type": "markdown",
      "source": [
        "You can do here\n",
        "\n",
        "model=tf.kearas.models.Sequential()\n",
        "\n",
        "\n",
        "model.add(tf.keras.layers.Dense(1,input_shape(D,),activation=\"sigmoid\"))"
      ],
      "metadata": {
        "id": "p-9bUGQt2JPW"
      }
    },
    {
      "cell_type": "code",
      "source": [
        "#COMPILE MODEL\n",
        "\n",
        "model.compile(optimizer=\"adam\",\n",
        "              loss=\"binary_crossentropy\",\n",
        "              metrics=[\"accuracy\"])"
      ],
      "metadata": {
        "id": "rplVOL6Z1V3i"
      },
      "execution_count": null,
      "outputs": []
    },
    {
      "cell_type": "code",
      "source": [
        "r=model.fit(X_train,y_train,validation_data=(X_test,y_test),epochs=100)"
      ],
      "metadata": {
        "colab": {
          "base_uri": "https://localhost:8080/"
        },
        "id": "A6VSQOIN2gIH",
        "outputId": "c5f4e6c1-fe5a-48b3-f4b5-b41238658330"
      },
      "execution_count": null,
      "outputs": [
        {
          "output_type": "stream",
          "name": "stdout",
          "text": [
            "Epoch 1/100\n",
            "12/12 [==============================] - 1s 20ms/step - loss: 0.8554 - accuracy: 0.4226 - val_loss: 0.8254 - val_accuracy: 0.4734\n",
            "Epoch 2/100\n",
            "12/12 [==============================] - 0s 4ms/step - loss: 0.7709 - accuracy: 0.5144 - val_loss: 0.7472 - val_accuracy: 0.5319\n",
            "Epoch 3/100\n",
            "12/12 [==============================] - 0s 6ms/step - loss: 0.6964 - accuracy: 0.5853 - val_loss: 0.6784 - val_accuracy: 0.5904\n",
            "Epoch 4/100\n",
            "12/12 [==============================] - 0s 6ms/step - loss: 0.6319 - accuracy: 0.6457 - val_loss: 0.6190 - val_accuracy: 0.6596\n",
            "Epoch 5/100\n",
            "12/12 [==============================] - 0s 8ms/step - loss: 0.5765 - accuracy: 0.7060 - val_loss: 0.5688 - val_accuracy: 0.7394\n",
            "Epoch 6/100\n",
            "12/12 [==============================] - 0s 6ms/step - loss: 0.5310 - accuracy: 0.7454 - val_loss: 0.5254 - val_accuracy: 0.7819\n",
            "Epoch 7/100\n",
            "12/12 [==============================] - 0s 5ms/step - loss: 0.4912 - accuracy: 0.8005 - val_loss: 0.4887 - val_accuracy: 0.8085\n",
            "Epoch 8/100\n",
            "12/12 [==============================] - 0s 5ms/step - loss: 0.4571 - accuracy: 0.8189 - val_loss: 0.4578 - val_accuracy: 0.8298\n",
            "Epoch 9/100\n",
            "12/12 [==============================] - 0s 6ms/step - loss: 0.4288 - accuracy: 0.8451 - val_loss: 0.4308 - val_accuracy: 0.8564\n",
            "Epoch 10/100\n",
            "12/12 [==============================] - 0s 6ms/step - loss: 0.4037 - accuracy: 0.8530 - val_loss: 0.4072 - val_accuracy: 0.8830\n",
            "Epoch 11/100\n",
            "12/12 [==============================] - 0s 5ms/step - loss: 0.3815 - accuracy: 0.8688 - val_loss: 0.3868 - val_accuracy: 0.8936\n",
            "Epoch 12/100\n",
            "12/12 [==============================] - 0s 5ms/step - loss: 0.3621 - accuracy: 0.8793 - val_loss: 0.3686 - val_accuracy: 0.9096\n",
            "Epoch 13/100\n",
            "12/12 [==============================] - 0s 6ms/step - loss: 0.3446 - accuracy: 0.8845 - val_loss: 0.3526 - val_accuracy: 0.9202\n",
            "Epoch 14/100\n",
            "12/12 [==============================] - 0s 6ms/step - loss: 0.3291 - accuracy: 0.9003 - val_loss: 0.3382 - val_accuracy: 0.9255\n",
            "Epoch 15/100\n",
            "12/12 [==============================] - 0s 6ms/step - loss: 0.3149 - accuracy: 0.9029 - val_loss: 0.3254 - val_accuracy: 0.9255\n",
            "Epoch 16/100\n",
            "12/12 [==============================] - 0s 5ms/step - loss: 0.3022 - accuracy: 0.9134 - val_loss: 0.3137 - val_accuracy: 0.9255\n",
            "Epoch 17/100\n",
            "12/12 [==============================] - 0s 6ms/step - loss: 0.2904 - accuracy: 0.9291 - val_loss: 0.3033 - val_accuracy: 0.9309\n",
            "Epoch 18/100\n",
            "12/12 [==============================] - 0s 16ms/step - loss: 0.2799 - accuracy: 0.9291 - val_loss: 0.2935 - val_accuracy: 0.9309\n",
            "Epoch 19/100\n",
            "12/12 [==============================] - 0s 11ms/step - loss: 0.2701 - accuracy: 0.9370 - val_loss: 0.2846 - val_accuracy: 0.9309\n",
            "Epoch 20/100\n",
            "12/12 [==============================] - 0s 11ms/step - loss: 0.2611 - accuracy: 0.9423 - val_loss: 0.2764 - val_accuracy: 0.9309\n",
            "Epoch 21/100\n",
            "12/12 [==============================] - 0s 11ms/step - loss: 0.2525 - accuracy: 0.9449 - val_loss: 0.2691 - val_accuracy: 0.9309\n",
            "Epoch 22/100\n",
            "12/12 [==============================] - 0s 15ms/step - loss: 0.2450 - accuracy: 0.9475 - val_loss: 0.2621 - val_accuracy: 0.9309\n",
            "Epoch 23/100\n",
            "12/12 [==============================] - 0s 13ms/step - loss: 0.2379 - accuracy: 0.9475 - val_loss: 0.2556 - val_accuracy: 0.9309\n",
            "Epoch 24/100\n",
            "12/12 [==============================] - 0s 10ms/step - loss: 0.2310 - accuracy: 0.9501 - val_loss: 0.2496 - val_accuracy: 0.9309\n",
            "Epoch 25/100\n",
            "12/12 [==============================] - 0s 10ms/step - loss: 0.2248 - accuracy: 0.9501 - val_loss: 0.2440 - val_accuracy: 0.9309\n",
            "Epoch 26/100\n",
            "12/12 [==============================] - 0s 11ms/step - loss: 0.2189 - accuracy: 0.9501 - val_loss: 0.2388 - val_accuracy: 0.9309\n",
            "Epoch 27/100\n",
            "12/12 [==============================] - 0s 14ms/step - loss: 0.2134 - accuracy: 0.9580 - val_loss: 0.2339 - val_accuracy: 0.9309\n",
            "Epoch 28/100\n",
            "12/12 [==============================] - 0s 8ms/step - loss: 0.2083 - accuracy: 0.9606 - val_loss: 0.2293 - val_accuracy: 0.9309\n",
            "Epoch 29/100\n",
            "12/12 [==============================] - 0s 18ms/step - loss: 0.2033 - accuracy: 0.9606 - val_loss: 0.2249 - val_accuracy: 0.9362\n",
            "Epoch 30/100\n",
            "12/12 [==============================] - 0s 14ms/step - loss: 0.1987 - accuracy: 0.9633 - val_loss: 0.2208 - val_accuracy: 0.9362\n",
            "Epoch 31/100\n",
            "12/12 [==============================] - 0s 16ms/step - loss: 0.1946 - accuracy: 0.9633 - val_loss: 0.2168 - val_accuracy: 0.9362\n",
            "Epoch 32/100\n",
            "12/12 [==============================] - 0s 17ms/step - loss: 0.1904 - accuracy: 0.9633 - val_loss: 0.2131 - val_accuracy: 0.9362\n",
            "Epoch 33/100\n",
            "12/12 [==============================] - 0s 9ms/step - loss: 0.1866 - accuracy: 0.9633 - val_loss: 0.2096 - val_accuracy: 0.9362\n",
            "Epoch 34/100\n",
            "12/12 [==============================] - 0s 8ms/step - loss: 0.1829 - accuracy: 0.9633 - val_loss: 0.2063 - val_accuracy: 0.9415\n",
            "Epoch 35/100\n",
            "12/12 [==============================] - 0s 18ms/step - loss: 0.1794 - accuracy: 0.9659 - val_loss: 0.2031 - val_accuracy: 0.9415\n",
            "Epoch 36/100\n",
            "12/12 [==============================] - 0s 12ms/step - loss: 0.1761 - accuracy: 0.9659 - val_loss: 0.2001 - val_accuracy: 0.9415\n",
            "Epoch 37/100\n",
            "12/12 [==============================] - 0s 9ms/step - loss: 0.1730 - accuracy: 0.9659 - val_loss: 0.1972 - val_accuracy: 0.9415\n",
            "Epoch 38/100\n",
            "12/12 [==============================] - 0s 9ms/step - loss: 0.1700 - accuracy: 0.9659 - val_loss: 0.1945 - val_accuracy: 0.9415\n",
            "Epoch 39/100\n",
            "12/12 [==============================] - 0s 8ms/step - loss: 0.1671 - accuracy: 0.9659 - val_loss: 0.1917 - val_accuracy: 0.9415\n",
            "Epoch 40/100\n",
            "12/12 [==============================] - 0s 12ms/step - loss: 0.1644 - accuracy: 0.9659 - val_loss: 0.1891 - val_accuracy: 0.9415\n",
            "Epoch 41/100\n",
            "12/12 [==============================] - 0s 11ms/step - loss: 0.1618 - accuracy: 0.9685 - val_loss: 0.1867 - val_accuracy: 0.9415\n",
            "Epoch 42/100\n",
            "12/12 [==============================] - 0s 8ms/step - loss: 0.1593 - accuracy: 0.9685 - val_loss: 0.1844 - val_accuracy: 0.9415\n",
            "Epoch 43/100\n",
            "12/12 [==============================] - 0s 14ms/step - loss: 0.1570 - accuracy: 0.9685 - val_loss: 0.1822 - val_accuracy: 0.9468\n",
            "Epoch 44/100\n",
            "12/12 [==============================] - 0s 7ms/step - loss: 0.1546 - accuracy: 0.9685 - val_loss: 0.1800 - val_accuracy: 0.9468\n",
            "Epoch 45/100\n",
            "12/12 [==============================] - 0s 8ms/step - loss: 0.1525 - accuracy: 0.9685 - val_loss: 0.1779 - val_accuracy: 0.9468\n",
            "Epoch 46/100\n",
            "12/12 [==============================] - 0s 8ms/step - loss: 0.1504 - accuracy: 0.9685 - val_loss: 0.1758 - val_accuracy: 0.9468\n",
            "Epoch 47/100\n",
            "12/12 [==============================] - 0s 11ms/step - loss: 0.1483 - accuracy: 0.9685 - val_loss: 0.1738 - val_accuracy: 0.9468\n",
            "Epoch 48/100\n",
            "12/12 [==============================] - 0s 11ms/step - loss: 0.1464 - accuracy: 0.9685 - val_loss: 0.1719 - val_accuracy: 0.9468\n",
            "Epoch 49/100\n",
            "12/12 [==============================] - 0s 8ms/step - loss: 0.1445 - accuracy: 0.9685 - val_loss: 0.1701 - val_accuracy: 0.9468\n",
            "Epoch 50/100\n",
            "12/12 [==============================] - 0s 12ms/step - loss: 0.1427 - accuracy: 0.9685 - val_loss: 0.1685 - val_accuracy: 0.9521\n",
            "Epoch 51/100\n",
            "12/12 [==============================] - 0s 7ms/step - loss: 0.1410 - accuracy: 0.9711 - val_loss: 0.1668 - val_accuracy: 0.9574\n",
            "Epoch 52/100\n",
            "12/12 [==============================] - 0s 9ms/step - loss: 0.1393 - accuracy: 0.9711 - val_loss: 0.1651 - val_accuracy: 0.9574\n",
            "Epoch 53/100\n",
            "12/12 [==============================] - 0s 9ms/step - loss: 0.1377 - accuracy: 0.9738 - val_loss: 0.1634 - val_accuracy: 0.9574\n",
            "Epoch 54/100\n",
            "12/12 [==============================] - 0s 8ms/step - loss: 0.1362 - accuracy: 0.9738 - val_loss: 0.1618 - val_accuracy: 0.9574\n",
            "Epoch 55/100\n",
            "12/12 [==============================] - 0s 9ms/step - loss: 0.1346 - accuracy: 0.9738 - val_loss: 0.1604 - val_accuracy: 0.9574\n",
            "Epoch 56/100\n",
            "12/12 [==============================] - 0s 9ms/step - loss: 0.1332 - accuracy: 0.9738 - val_loss: 0.1589 - val_accuracy: 0.9574\n",
            "Epoch 57/100\n",
            "12/12 [==============================] - 0s 12ms/step - loss: 0.1318 - accuracy: 0.9738 - val_loss: 0.1575 - val_accuracy: 0.9574\n",
            "Epoch 58/100\n",
            "12/12 [==============================] - 0s 11ms/step - loss: 0.1304 - accuracy: 0.9738 - val_loss: 0.1561 - val_accuracy: 0.9574\n",
            "Epoch 59/100\n",
            "12/12 [==============================] - 0s 8ms/step - loss: 0.1291 - accuracy: 0.9738 - val_loss: 0.1548 - val_accuracy: 0.9574\n",
            "Epoch 60/100\n",
            "12/12 [==============================] - 0s 11ms/step - loss: 0.1278 - accuracy: 0.9738 - val_loss: 0.1534 - val_accuracy: 0.9574\n",
            "Epoch 61/100\n",
            "12/12 [==============================] - 0s 13ms/step - loss: 0.1266 - accuracy: 0.9738 - val_loss: 0.1521 - val_accuracy: 0.9628\n",
            "Epoch 62/100\n",
            "12/12 [==============================] - 0s 10ms/step - loss: 0.1253 - accuracy: 0.9738 - val_loss: 0.1508 - val_accuracy: 0.9628\n",
            "Epoch 63/100\n",
            "12/12 [==============================] - 0s 16ms/step - loss: 0.1242 - accuracy: 0.9738 - val_loss: 0.1496 - val_accuracy: 0.9628\n",
            "Epoch 64/100\n",
            "12/12 [==============================] - 0s 18ms/step - loss: 0.1231 - accuracy: 0.9764 - val_loss: 0.1484 - val_accuracy: 0.9628\n",
            "Epoch 65/100\n",
            "12/12 [==============================] - 0s 13ms/step - loss: 0.1219 - accuracy: 0.9764 - val_loss: 0.1472 - val_accuracy: 0.9628\n",
            "Epoch 66/100\n",
            "12/12 [==============================] - 0s 9ms/step - loss: 0.1209 - accuracy: 0.9764 - val_loss: 0.1461 - val_accuracy: 0.9681\n",
            "Epoch 67/100\n",
            "12/12 [==============================] - 0s 10ms/step - loss: 0.1198 - accuracy: 0.9764 - val_loss: 0.1449 - val_accuracy: 0.9681\n",
            "Epoch 68/100\n",
            "12/12 [==============================] - 0s 12ms/step - loss: 0.1188 - accuracy: 0.9764 - val_loss: 0.1439 - val_accuracy: 0.9681\n",
            "Epoch 69/100\n",
            "12/12 [==============================] - 0s 10ms/step - loss: 0.1178 - accuracy: 0.9764 - val_loss: 0.1428 - val_accuracy: 0.9681\n",
            "Epoch 70/100\n",
            "12/12 [==============================] - 0s 7ms/step - loss: 0.1169 - accuracy: 0.9764 - val_loss: 0.1418 - val_accuracy: 0.9681\n",
            "Epoch 71/100\n",
            "12/12 [==============================] - 0s 20ms/step - loss: 0.1159 - accuracy: 0.9764 - val_loss: 0.1408 - val_accuracy: 0.9734\n",
            "Epoch 72/100\n",
            "12/12 [==============================] - 0s 11ms/step - loss: 0.1150 - accuracy: 0.9764 - val_loss: 0.1398 - val_accuracy: 0.9734\n",
            "Epoch 73/100\n",
            "12/12 [==============================] - 0s 14ms/step - loss: 0.1141 - accuracy: 0.9764 - val_loss: 0.1388 - val_accuracy: 0.9734\n",
            "Epoch 74/100\n",
            "12/12 [==============================] - 0s 12ms/step - loss: 0.1133 - accuracy: 0.9764 - val_loss: 0.1378 - val_accuracy: 0.9734\n",
            "Epoch 75/100\n",
            "12/12 [==============================] - 0s 14ms/step - loss: 0.1124 - accuracy: 0.9764 - val_loss: 0.1369 - val_accuracy: 0.9734\n",
            "Epoch 76/100\n",
            "12/12 [==============================] - 0s 13ms/step - loss: 0.1116 - accuracy: 0.9764 - val_loss: 0.1359 - val_accuracy: 0.9734\n",
            "Epoch 77/100\n",
            "12/12 [==============================] - 0s 11ms/step - loss: 0.1108 - accuracy: 0.9764 - val_loss: 0.1350 - val_accuracy: 0.9734\n",
            "Epoch 78/100\n",
            "12/12 [==============================] - 0s 13ms/step - loss: 0.1100 - accuracy: 0.9790 - val_loss: 0.1342 - val_accuracy: 0.9734\n",
            "Epoch 79/100\n",
            "12/12 [==============================] - 0s 7ms/step - loss: 0.1092 - accuracy: 0.9790 - val_loss: 0.1333 - val_accuracy: 0.9734\n",
            "Epoch 80/100\n",
            "12/12 [==============================] - 0s 8ms/step - loss: 0.1085 - accuracy: 0.9790 - val_loss: 0.1325 - val_accuracy: 0.9734\n",
            "Epoch 81/100\n",
            "12/12 [==============================] - 0s 8ms/step - loss: 0.1078 - accuracy: 0.9790 - val_loss: 0.1317 - val_accuracy: 0.9734\n",
            "Epoch 82/100\n",
            "12/12 [==============================] - 0s 11ms/step - loss: 0.1070 - accuracy: 0.9790 - val_loss: 0.1308 - val_accuracy: 0.9734\n",
            "Epoch 83/100\n",
            "12/12 [==============================] - 0s 9ms/step - loss: 0.1063 - accuracy: 0.9790 - val_loss: 0.1300 - val_accuracy: 0.9734\n",
            "Epoch 84/100\n",
            "12/12 [==============================] - 0s 7ms/step - loss: 0.1057 - accuracy: 0.9790 - val_loss: 0.1292 - val_accuracy: 0.9734\n",
            "Epoch 85/100\n",
            "12/12 [==============================] - 0s 12ms/step - loss: 0.1050 - accuracy: 0.9790 - val_loss: 0.1284 - val_accuracy: 0.9734\n",
            "Epoch 86/100\n",
            "12/12 [==============================] - 0s 14ms/step - loss: 0.1043 - accuracy: 0.9790 - val_loss: 0.1277 - val_accuracy: 0.9734\n",
            "Epoch 87/100\n",
            "12/12 [==============================] - 0s 6ms/step - loss: 0.1037 - accuracy: 0.9790 - val_loss: 0.1269 - val_accuracy: 0.9734\n",
            "Epoch 88/100\n",
            "12/12 [==============================] - 0s 12ms/step - loss: 0.1031 - accuracy: 0.9790 - val_loss: 0.1263 - val_accuracy: 0.9734\n",
            "Epoch 89/100\n",
            "12/12 [==============================] - 0s 6ms/step - loss: 0.1025 - accuracy: 0.9790 - val_loss: 0.1255 - val_accuracy: 0.9734\n",
            "Epoch 90/100\n",
            "12/12 [==============================] - 0s 7ms/step - loss: 0.1019 - accuracy: 0.9790 - val_loss: 0.1248 - val_accuracy: 0.9734\n",
            "Epoch 91/100\n",
            "12/12 [==============================] - 0s 8ms/step - loss: 0.1013 - accuracy: 0.9790 - val_loss: 0.1240 - val_accuracy: 0.9734\n",
            "Epoch 92/100\n",
            "12/12 [==============================] - 0s 8ms/step - loss: 0.1007 - accuracy: 0.9790 - val_loss: 0.1234 - val_accuracy: 0.9734\n",
            "Epoch 93/100\n",
            "12/12 [==============================] - 0s 7ms/step - loss: 0.1001 - accuracy: 0.9790 - val_loss: 0.1227 - val_accuracy: 0.9734\n",
            "Epoch 94/100\n",
            "12/12 [==============================] - 0s 9ms/step - loss: 0.0996 - accuracy: 0.9790 - val_loss: 0.1220 - val_accuracy: 0.9734\n",
            "Epoch 95/100\n",
            "12/12 [==============================] - 0s 13ms/step - loss: 0.0991 - accuracy: 0.9790 - val_loss: 0.1214 - val_accuracy: 0.9734\n",
            "Epoch 96/100\n",
            "12/12 [==============================] - 0s 8ms/step - loss: 0.0985 - accuracy: 0.9790 - val_loss: 0.1207 - val_accuracy: 0.9734\n",
            "Epoch 97/100\n",
            "12/12 [==============================] - 0s 9ms/step - loss: 0.0980 - accuracy: 0.9790 - val_loss: 0.1201 - val_accuracy: 0.9734\n",
            "Epoch 98/100\n",
            "12/12 [==============================] - 0s 9ms/step - loss: 0.0975 - accuracy: 0.9790 - val_loss: 0.1193 - val_accuracy: 0.9734\n",
            "Epoch 99/100\n",
            "12/12 [==============================] - 0s 11ms/step - loss: 0.0970 - accuracy: 0.9790 - val_loss: 0.1187 - val_accuracy: 0.9734\n",
            "Epoch 100/100\n",
            "12/12 [==============================] - 0s 8ms/step - loss: 0.0965 - accuracy: 0.9790 - val_loss: 0.1181 - val_accuracy: 0.9734\n"
          ]
        }
      ]
    },
    {
      "cell_type": "code",
      "source": [
        "print(\"train scores:\",model.evaluate(X_train,y_train))\n",
        "print(\"test score:\",model.evaluate(X_test,y_test))"
      ],
      "metadata": {
        "colab": {
          "base_uri": "https://localhost:8080/"
        },
        "id": "anEwDQIX27nM",
        "outputId": "8cdd5b40-1cf7-4c56-ae8d-eb57e4b30493"
      },
      "execution_count": null,
      "outputs": [
        {
          "output_type": "stream",
          "name": "stdout",
          "text": [
            "12/12 [==============================] - 0s 6ms/step - loss: 0.0962 - accuracy: 0.9790\n",
            "train scores: [0.09617641568183899, 0.9790025949478149]\n",
            "6/6 [==============================] - 0s 3ms/step - loss: 0.1181 - accuracy: 0.9734\n",
            "test score: [0.11814715713262558, 0.9734042286872864]\n"
          ]
        }
      ]
    },
    {
      "cell_type": "code",
      "source": [
        "#PLOT LOSS\n",
        "import matplotlib.pyplot as plt\n",
        "plt.plot(r.history[\"loss\"],label=\"loss\")\n",
        "plt.plot(r.history[\"val_loss\"],label=\"val loss\")\n",
        "plt.legend()"
      ],
      "metadata": {
        "colab": {
          "base_uri": "https://localhost:8080/",
          "height": 282
        },
        "id": "8rwICaV13Wfj",
        "outputId": "f094b6f6-1562-4886-a47a-1ca218ee1f2e"
      },
      "execution_count": null,
      "outputs": [
        {
          "output_type": "execute_result",
          "data": {
            "text/plain": [
              "<matplotlib.legend.Legend at 0x7fb64c711850>"
            ]
          },
          "metadata": {},
          "execution_count": 21
        },
        {
          "output_type": "display_data",
          "data": {
            "text/plain": [
              "<Figure size 432x288 with 1 Axes>"
            ],
            "image/png": "[encoded data removed]"
          },
          "metadata": {
            "needs_background": "light"
          }
        }
      ]
    },
    {
      "cell_type": "code",
      "source": [
        "#PLOT ACCURACY\n",
        "import matplotlib.pyplot as plt\n",
        "plt.plot(r.history[\"accuracy\"],label=\"accuracy\")\n",
        "plt.plot(r.history[\"val_accuracy\"],label=\"val accuracy\")\n",
        "plt.legend()\n"
      ],
      "metadata": {
        "colab": {
          "base_uri": "https://localhost:8080/",
          "height": 284
        },
        "id": "RSO8C0-_3wt6",
        "outputId": "5d5a83cd-08d3-4f3c-be3d-5c2fbf58da54"
      },
      "execution_count": null,
      "outputs": [
        {
          "output_type": "execute_result",
          "data": {
            "text/plain": [
              "<matplotlib.legend.Legend at 0x7fb64dee0a10>"
            ]
          },
          "metadata": {},
          "execution_count": 22
        },
        {
          "output_type": "display_data",
          "data": {
            "text/plain": [
              "<Figure size 432x288 with 1 Axes>"
            ],
            "image/png": "[encoded data removed]"
          },
          "metadata": {
            "needs_background": "light"
          }
        }
      ]
    },
    {
      "cell_type": "code",
      "source": [
        "data.keys()"
      ],
      "metadata": {
        "colab": {
          "base_uri": "https://localhost:8080/"
        },
        "id": "9q_JTRlX4H01",
        "outputId": "5e7379ea-086a-4339-a8a7-3e0a23beaa89"
      },
      "execution_count": null,
      "outputs": [
        {
          "output_type": "execute_result",
          "data": {
            "text/plain": [
              "dict_keys(['data', 'target', 'frame', 'target_names', 'DESCR', 'feature_names', 'filename', 'data_module'])"
            ]
          },
          "metadata": {},
          "execution_count": 23
        }
      ]
    },
    {
      "cell_type": "code",
      "source": [
        "data.data_module"
      ],
      "metadata": {
        "colab": {
          "base_uri": "https://localhost:8080/",
          "height": 35
        },
        "id": "0QL9wJvV4Qu0",
        "outputId": "6d81eb49-d793-40af-bccf-2ee5f9bc5c9f"
      },
      "execution_count": null,
      "outputs": [
        {
          "output_type": "execute_result",
          "data": {
            "text/plain": [
              "'sklearn.datasets.data'"
            ],
            "application/vnd.google.colaboratory.intrinsic+json": {
              "type": "string"
            }
          },
          "metadata": {},
          "execution_count": 24
        }
      ]
    },
    {
      "cell_type": "code",
      "source": [
        "import seaborn as sns"
      ],
      "metadata": {
        "id": "qG5JnNwb5NzL"
      },
      "execution_count": null,
      "outputs": []
    },
    {
      "cell_type": "code",
      "source": [
        "data.keys()"
      ],
      "metadata": {
        "colab": {
          "base_uri": "https://localhost:8080/"
        },
        "id": "h_EIZvoTrAFm",
        "outputId": "5e39fe62-c800-461a-bf5d-908c4ba2fa68"
      },
      "execution_count": null,
      "outputs": [
        {
          "output_type": "execute_result",
          "data": {
            "text/plain": [
              "dict_keys(['data', 'target', 'frame', 'target_names', 'DESCR', 'feature_names', 'filename', 'data_module'])"
            ]
          },
          "metadata": {},
          "execution_count": 26
        }
      ]
    },
    {
      "cell_type": "code",
      "source": [
        "type(data)"
      ],
      "metadata": {
        "colab": {
          "base_uri": "https://localhost:8080/"
        },
        "id": "ZrpI3yu4rIr1",
        "outputId": "0d6734af-5b32-46da-c3f0-43622660a6be"
      },
      "execution_count": null,
      "outputs": [
        {
          "output_type": "execute_result",
          "data": {
            "text/plain": [
              "sklearn.utils.Bunch"
            ]
          },
          "metadata": {},
          "execution_count": 27
        }
      ]
    },
    {
      "cell_type": "code",
      "source": [
        "import pandas as pd\n",
        "import numpy as np"
      ],
      "metadata": {
        "id": "Wv_V2qMVrlZf"
      },
      "execution_count": null,
      "outputs": []
    },
    {
      "cell_type": "code",
      "source": [],
      "metadata": {
        "id": "fRN5fyjKNl8W"
      },
      "execution_count": null,
      "outputs": []
    },
    {
      "cell_type": "markdown",
      "source": [
        "# **MAKING PREDICTIONS FOR LINEAR CLASSIFICATION**"
      ],
      "metadata": {
        "id": "biHmbiIIN4is"
      }
    },
    {
      "cell_type": "code",
      "source": [
        "#MAKING PREDICTIONS\n",
        "P=model.predict(X_test)\n",
        "print(P) #THIS IS OUTPUT OF SIGMOID, INTERPRETED AS PROBABILITIES\n",
        "#P(Y=1|X)"
      ],
      "metadata": {
        "colab": {
          "base_uri": "https://localhost:8080/"
        },
        "id": "FnOBVwmFN_nt",
        "outputId": "b598f983-7703-4db3-ddb9-14e09daa0d57"
      },
      "execution_count": null,
      "outputs": [
        {
          "output_type": "stream",
          "name": "stdout",
          "text": [
            "[[9.89788890e-01]\n",
            " [7.88065791e-03]\n",
            " [4.97961998e-01]\n",
            " [9.46620405e-02]\n",
            " [8.21492553e-01]\n",
            " [7.37269998e-01]\n",
            " [4.18543816e-04]\n",
            " [9.98957396e-01]\n",
            " [9.99972880e-01]\n",
            " [2.44148672e-02]\n",
            " [9.99661624e-01]\n",
            " [9.82191861e-01]\n",
            " [6.97374344e-04]\n",
            " [7.50212789e-01]\n",
            " [2.23869085e-03]\n",
            " [9.83611703e-01]\n",
            " [4.17312980e-03]\n",
            " [9.97479200e-01]\n",
            " [8.61262679e-01]\n",
            " [1.71207488e-02]\n",
            " [4.01020050e-04]\n",
            " [9.84486699e-01]\n",
            " [9.91891623e-01]\n",
            " [8.81091654e-01]\n",
            " [5.05030155e-04]\n",
            " [2.93578323e-05]\n",
            " [1.15021481e-04]\n",
            " [2.56396830e-02]\n",
            " [9.97287273e-01]\n",
            " [9.85631943e-01]\n",
            " [4.30116415e-01]\n",
            " [9.76921558e-01]\n",
            " [9.39430475e-01]\n",
            " [9.61580157e-01]\n",
            " [8.46344113e-01]\n",
            " [9.96129274e-01]\n",
            " [5.70744276e-04]\n",
            " [2.35210537e-05]\n",
            " [9.21340704e-01]\n",
            " [7.86467314e-01]\n",
            " [9.74135637e-01]\n",
            " [9.94800091e-01]\n",
            " [3.14304233e-03]\n",
            " [1.87622905e-01]\n",
            " [9.67002153e-01]\n",
            " [2.67216146e-01]\n",
            " [9.84718740e-01]\n",
            " [8.39973450e-01]\n",
            " [9.92139578e-01]\n",
            " [3.70717943e-02]\n",
            " [9.89986658e-01]\n",
            " [6.58543289e-01]\n",
            " [4.28923309e-01]\n",
            " [2.63325274e-02]\n",
            " [4.75794077e-04]\n",
            " [9.62932944e-01]\n",
            " [6.16821647e-03]\n",
            " [7.40885735e-04]\n",
            " [9.89761114e-01]\n",
            " [9.97985840e-01]\n",
            " [9.97279882e-01]\n",
            " [6.53094649e-01]\n",
            " [7.88250268e-02]\n",
            " [9.85785723e-01]\n",
            " [9.87235129e-01]\n",
            " [1.04120672e-02]\n",
            " [1.65174633e-01]\n",
            " [2.46346414e-01]\n",
            " [9.89196241e-01]\n",
            " [9.16822374e-01]\n",
            " [9.12485719e-01]\n",
            " [2.89727449e-02]\n",
            " [9.98743832e-01]\n",
            " [5.30079782e-01]\n",
            " [6.08208776e-01]\n",
            " [9.83775973e-01]\n",
            " [1.30936205e-02]\n",
            " [9.97679472e-01]\n",
            " [8.60012770e-01]\n",
            " [9.77055192e-01]\n",
            " [9.95602190e-01]\n",
            " [9.69353557e-01]\n",
            " [2.03254819e-03]\n",
            " [9.92307425e-01]\n",
            " [9.43232735e-05]\n",
            " [8.57323527e-01]\n",
            " [1.04165077e-03]\n",
            " [9.23621356e-01]\n",
            " [1.57976151e-03]\n",
            " [9.71461892e-01]\n",
            " [1.40604109e-01]\n",
            " [4.24104959e-01]\n",
            " [9.82465625e-01]\n",
            " [9.28260684e-01]\n",
            " [1.06975436e-03]\n",
            " [8.45416307e-01]\n",
            " [9.84599948e-01]\n",
            " [9.92125511e-01]\n",
            " [7.44419694e-02]\n",
            " [9.89170015e-01]\n",
            " [9.52371895e-01]\n",
            " [9.92486060e-01]\n",
            " [2.34172434e-01]\n",
            " [6.49050951e-01]\n",
            " [9.97259736e-01]\n",
            " [3.06486189e-02]\n",
            " [9.56559181e-01]\n",
            " [9.99785542e-01]\n",
            " [7.26100564e-01]\n",
            " [3.47090960e-02]\n",
            " [9.99004722e-01]\n",
            " [8.80667567e-03]\n",
            " [9.97349858e-01]\n",
            " [3.43747359e-07]\n",
            " [5.48621058e-01]\n",
            " [7.01201439e-01]\n",
            " [2.04369426e-03]\n",
            " [8.79431013e-07]\n",
            " [9.99817610e-01]\n",
            " [9.98644352e-01]\n",
            " [7.47829080e-01]\n",
            " [3.56087685e-01]\n",
            " [3.59178901e-01]\n",
            " [9.35309827e-01]\n",
            " [9.60504651e-01]\n",
            " [9.46859419e-01]\n",
            " [9.84414458e-01]\n",
            " [9.92631316e-01]\n",
            " [5.93125820e-04]\n",
            " [9.32358265e-01]\n",
            " [9.69766617e-01]\n",
            " [9.86660600e-01]\n",
            " [9.94301796e-01]\n",
            " [3.82162631e-02]\n",
            " [5.49942255e-04]\n",
            " [8.58330727e-01]\n",
            " [5.58464626e-06]\n",
            " [3.80500555e-02]\n",
            " [9.46453452e-01]\n",
            " [6.87658787e-03]\n",
            " [1.48198009e-03]\n",
            " [3.34945619e-02]\n",
            " [9.76559043e-01]\n",
            " [5.39231718e-01]\n",
            " [9.78931725e-01]\n",
            " [4.53685641e-01]\n",
            " [9.99104738e-01]\n",
            " [2.42732465e-02]\n",
            " [9.87422407e-01]\n",
            " [4.46638465e-03]\n",
            " [1.39361024e-02]\n",
            " [5.49896002e-01]\n",
            " [9.70008373e-02]\n",
            " [1.27017498e-04]\n",
            " [9.53133821e-01]\n",
            " [2.86456347e-01]\n",
            " [9.22372937e-03]\n",
            " [9.93865609e-01]\n",
            " [5.39210141e-02]\n",
            " [9.56018448e-01]\n",
            " [1.38815343e-02]\n",
            " [7.91950047e-01]\n",
            " [2.75850296e-03]\n",
            " [9.98322487e-01]\n",
            " [9.95004833e-01]\n",
            " [2.08801627e-01]\n",
            " [5.76114655e-02]\n",
            " [3.56847912e-01]\n",
            " [1.67429447e-04]\n",
            " [9.73424911e-01]\n",
            " [9.67658877e-01]\n",
            " [7.94850826e-01]\n",
            " [9.78576541e-01]\n",
            " [3.31223369e-01]\n",
            " [9.70098615e-01]\n",
            " [9.82400298e-01]\n",
            " [9.97627616e-01]\n",
            " [9.84580040e-01]\n",
            " [6.61724584e-07]\n",
            " [9.43715990e-01]\n",
            " [2.85208225e-04]\n",
            " [9.34471607e-01]\n",
            " [1.09042216e-04]\n",
            " [6.78753793e-01]\n",
            " [6.36904716e-01]\n",
            " [1.82300806e-04]\n",
            " [7.19713509e-01]\n",
            " [8.63358498e-01]]\n"
          ]
        }
      ]
    },
    {
      "cell_type": "code",
      "source": [
        "#ROUND TO GET THE ACTUAL PREDICTIONS\n",
        "#NOTE:FLATTEDN SINCE THE TARGETS ARE SIZE (N,) WHILE THE PREDUCTIONS\n",
        "#ARE SIZE (N,1)\n",
        "import numpy as np\n",
        "P=np.round(P).flatten()\n",
        "print(P)"
      ],
      "metadata": {
        "colab": {
          "base_uri": "https://localhost:8080/"
        },
        "id": "Wnk2ej9mOGhN",
        "outputId": "557e76d9-4c71-49b3-e765-b4972c665bc1"
      },
      "execution_count": null,
      "outputs": [
        {
          "output_type": "stream",
          "name": "stdout",
          "text": [
            "[1. 0. 0. 0. 1. 1. 0. 1. 1. 0. 1. 1. 0. 1. 0. 1. 0. 1. 1. 0. 0. 1. 1. 1.\n",
            " 0. 0. 0. 0. 1. 1. 0. 1. 1. 1. 1. 1. 0. 0. 1. 1. 1. 1. 0. 0. 1. 0. 1. 1.\n",
            " 1. 0. 1. 1. 0. 0. 0. 1. 0. 0. 1. 1. 1. 1. 0. 1. 1. 0. 0. 0. 1. 1. 1. 0.\n",
            " 1. 1. 1. 1. 0. 1. 1. 1. 1. 1. 0. 1. 0. 1. 0. 1. 0. 1. 0. 0. 1. 1. 0. 1.\n",
            " 1. 1. 0. 1. 1. 1. 0. 1. 1. 0. 1. 1. 1. 0. 1. 0. 1. 0. 1. 1. 0. 0. 1. 1.\n",
            " 1. 0. 0. 1. 1. 1. 1. 1. 0. 1. 1. 1. 1. 0. 0. 1. 0. 0. 1. 0. 0. 0. 1. 1.\n",
            " 1. 0. 1. 0. 1. 0. 0. 1. 0. 0. 1. 0. 0. 1. 0. 1. 0. 1. 0. 1. 1. 0. 0. 0.\n",
            " 0. 1. 1. 1. 1. 0. 1. 1. 1. 1. 0. 1. 0. 1. 0. 1. 1. 0. 1. 1.]\n"
          ]
        }
      ]
    },
    {
      "cell_type": "code",
      "source": [
        "#CALCULATE THE ACCURACY, COMPARE IT TO EVALUATE() OUTPUT\n",
        "print(\"manually calculated accuracy:\",np.mean(P==y_test))\n",
        "print(\"Evaluate output:\", model.evaluate(X_test,y_test))"
      ],
      "metadata": {
        "colab": {
          "base_uri": "https://localhost:8080/"
        },
        "id": "h9wxcDHhOGoF",
        "outputId": "fbced1ed-4511-4c6d-fad6-a217694bf3c1"
      },
      "execution_count": null,
      "outputs": [
        {
          "output_type": "stream",
          "name": "stdout",
          "text": [
            "manually calculated accuracy: 0.973404255319149\n",
            "6/6 [==============================] - 0s 3ms/step - loss: 0.1181 - accuracy: 0.9734\n",
            "Evaluate output: [0.11814715713262558, 0.9734042286872864]\n"
          ]
        }
      ]
    },
    {
      "cell_type": "code",
      "source": [
        "P.shape"
      ],
      "metadata": {
        "colab": {
          "base_uri": "https://localhost:8080/"
        },
        "id": "Oq6EfTu4OGtO",
        "outputId": "01c518ed-8ebe-4d1c-f867-83d6b68f8de1"
      },
      "execution_count": null,
      "outputs": [
        {
          "output_type": "execute_result",
          "data": {
            "text/plain": [
              "(188,)"
            ]
          },
          "metadata": {},
          "execution_count": 32
        }
      ]
    },
    {
      "cell_type": "code",
      "source": [
        "y_test.shape"
      ],
      "metadata": {
        "colab": {
          "base_uri": "https://localhost:8080/"
        },
        "id": "R14YXG8fSyzn",
        "outputId": "4b17d43a-7f3f-428e-ea81-c10b96feacd0"
      },
      "execution_count": null,
      "outputs": [
        {
          "output_type": "execute_result",
          "data": {
            "text/plain": [
              "(188,)"
            ]
          },
          "metadata": {},
          "execution_count": 35
        }
      ]
    },
    {
      "cell_type": "markdown",
      "source": [
        "# SAVING AND LOADING A MODEL"
      ],
      "metadata": {
        "id": "SywCyMxCzJC-"
      }
    },
    {
      "cell_type": "code",
      "source": [
        "#LETS NOW SAVE OUR MODEL TO A FILE\n",
        "model.save(\"linearclassifier.h5\")"
      ],
      "metadata": {
        "id": "zDHxky9VzTcW"
      },
      "execution_count": null,
      "outputs": []
    },
    {
      "cell_type": "code",
      "source": [
        "#CHECK THAT THE MODEL FILE EXISTS\n",
        "!ls -lh"
      ],
      "metadata": {
        "colab": {
          "base_uri": "https://localhost:8080/"
        },
        "id": "nrauvMcWzcrm",
        "outputId": "66e662af-177a-4728-fd8f-d95d04b35bbf"
      },
      "execution_count": null,
      "outputs": [
        {
          "output_type": "stream",
          "name": "stdout",
          "text": [
            "total 24K\n",
            "-rw-r--r-- 1 root root  19K Apr  6 16:55 linearclassifier.h5\n",
            "drwxr-xr-x 1 root root 4.0K Mar 23 14:22 sample_data\n"
          ]
        }
      ]
    },
    {
      "cell_type": "code",
      "source": [
        "#LETS LOAD THE MODEL AND CONFIRM THAT IT STILL WORKDS\n",
        "#NOTE: THERE IS A BUG IN KERAS WHERE LOAD/SAVE ONLY WORKS IF YOU DONT\n",
        "#USE THE INPUT() LAYER EXPLICITLY\n",
        "#AT LEAST UNTIL THE BUG IS FIXED\n",
        "model=tf.keras.models.load_model(\"linearclassifier.h5\")\n",
        "print(model.layers)\n",
        "model.evaluate(X_test,y_test)"
      ],
      "metadata": {
        "colab": {
          "base_uri": "https://localhost:8080/"
        },
        "id": "3mf9leJvzkBk",
        "outputId": "c5b6f333-d528-426e-eeea-7df736fb584a"
      },
      "execution_count": null,
      "outputs": [
        {
          "output_type": "stream",
          "name": "stdout",
          "text": [
            "[<keras.layers.core.dense.Dense object at 0x7fb64a330910>]\n",
            "6/6 [==============================] - 0s 5ms/step - loss: 0.1181 - accuracy: 0.9734\n"
          ]
        },
        {
          "output_type": "execute_result",
          "data": {
            "text/plain": [
              "[0.11814715713262558, 0.9734042286872864]"
            ]
          },
          "metadata": {},
          "execution_count": 42
        }
      ]
    },
    {
      "cell_type": "markdown",
      "source": [
        "It looks like the saved model is working as expected"
      ],
      "metadata": {
        "id": "mLS3cv6K0Qjk"
      }
    },
    {
      "cell_type": "markdown",
      "source": [
        "PYTHON CODE TO DOWNLOAD FILE"
      ],
      "metadata": {
        "id": "59TOeQdD0qLt"
      }
    },
    {
      "cell_type": "code",
      "source": [
        "##DOWNLOAD THE FILE- REQUIRES CHOROME\n",
        "#from google.colab import files\n",
        "#files.download(\"linearclassifier.h5\")"
      ],
      "metadata": {
        "colab": {
          "base_uri": "https://localhost:8080/",
          "height": 17
        },
        "id": "AAUAzqm_0v8D",
        "outputId": "c1f5a237-7162-4e3c-9f8e-a9473c313bce"
      },
      "execution_count": null,
      "outputs": [
        {
          "output_type": "display_data",
          "data": {
            "text/plain": [
              "<IPython.core.display.Javascript object>"
            ],
            "application/javascript": [
              "\n",
              "    async function download(id, filename, size) {\n",
              "      if (!google.colab.kernel.accessAllowed) {\n",
              "        return;\n",
              "      }\n",
              "      const div = document.createElement('div');\n",
              "      const label = document.createElement('label');\n",
              "      label.textContent = `Downloading \"${filename}\": `;\n",
              "      div.appendChild(label);\n",
              "      const progress = document.createElement('progress');\n",
              "      progress.max = size;\n",
              "      div.appendChild(progress);\n",
              "      document.body.appendChild(div);\n",
              "\n",
              "      const buffers = [];\n",
              "      let downloaded = 0;\n",
              "\n",
              "      const channel = await google.colab.kernel.comms.open(id);\n",
              "      // Send a message to notify the kernel that we're ready.\n",
              "      channel.send({})\n",
              "\n",
              "      for await (const message of channel.messages) {\n",
              "        // Send a message to notify the kernel that we're ready.\n",
              "        channel.send({})\n",
              "        if (message.buffers) {\n",
              "          for (const buffer of message.buffers) {\n",
              "            buffers.push(buffer);\n",
              "            downloaded += buffer.byteLength;\n",
              "            progress.value = downloaded;\n",
              "          }\n",
              "        }\n",
              "      }\n",
              "      const blob = new Blob(buffers, {type: 'application/binary'});\n",
              "      const a = document.createElement('a');\n",
              "      a.href = window.URL.createObjectURL(blob);\n",
              "      a.download = filename;\n",
              "      div.appendChild(a);\n",
              "      a.click();\n",
              "      div.remove();\n",
              "    }\n",
              "  "
            ]
          },
          "metadata": {}
        },
        {
          "output_type": "display_data",
          "data": {
            "text/plain": [
              "<IPython.core.display.Javascript object>"
            ],
            "application/javascript": [
              "download(\"download_08460fd5-cf1f-473a-9c2b-2c6131228010\", \"linearclassifier.h5\", 19312)"
            ]
          },
          "metadata": {}
        }
      ]
    },
    {
      "cell_type": "markdown",
      "source": [
        "# LINEAR REGRESSION"
      ],
      "metadata": {
        "id": "ie6x1Tn4NnZ0"
      }
    },
    {
      "cell_type": "code",
      "source": [
        "!wget https://raw.githubusercontent.com/lazyprogrammer/machine_learning_examples/master/tf2.0/moore.csv"
      ],
      "metadata": {
        "id": "jCRT99HnsHEg",
        "colab": {
          "base_uri": "https://localhost:8080/"
        },
        "outputId": "c2e551c3-e635-4a92-ab55-ccdd1f8f3954"
      },
      "execution_count": null,
      "outputs": [
        {
          "output_type": "stream",
          "name": "stdout",
          "text": [
            "--2022-04-06 14:34:25--  https://raw.githubusercontent.com/lazyprogrammer/machine_learning_examples/master/tf2.0/moore.csv\n",
            "Resolving raw.githubusercontent.com (raw.githubusercontent.com)... 185.199.108.133, 185.199.109.133, 185.199.110.133, ...\n",
            "Connecting to raw.githubusercontent.com (raw.githubusercontent.com)|185.199.108.133|:443... connected.\n",
            "HTTP request sent, awaiting response... 200 OK\n",
            "Length: 2302 (2.2K) [text/plain]\n",
            "Saving to: ‘moore.csv.2’\n",
            "\n",
            "moore.csv.2         100%[===================>]   2.25K  --.-KB/s    in 0s      \n",
            "\n",
            "2022-04-06 14:34:25 (58.4 MB/s) - ‘moore.csv.2’ saved [2302/2302]\n",
            "\n"
          ]
        }
      ]
    },
    {
      "cell_type": "code",
      "source": [
        "data=pd.read_csv(\"moore.csv\",header=None).values"
      ],
      "metadata": {
        "id": "PV7t_FN5sMQH"
      },
      "execution_count": null,
      "outputs": []
    },
    {
      "cell_type": "code",
      "source": [
        "data.shape"
      ],
      "metadata": {
        "colab": {
          "base_uri": "https://localhost:8080/"
        },
        "id": "YTX3GSJWbeB2",
        "outputId": "f4d63bc0-771d-4337-b577-d103f1f9eddd"
      },
      "execution_count": null,
      "outputs": [
        {
          "output_type": "execute_result",
          "data": {
            "text/plain": [
              "(162, 2)"
            ]
          },
          "metadata": {},
          "execution_count": 170
        }
      ]
    },
    {
      "cell_type": "code",
      "source": [
        "X=data[:,0].reshape(-1,1)"
      ],
      "metadata": {
        "id": "Mt6pqQKabwnY"
      },
      "execution_count": null,
      "outputs": []
    },
    {
      "cell_type": "code",
      "source": [
        "X.shape"
      ],
      "metadata": {
        "colab": {
          "base_uri": "https://localhost:8080/"
        },
        "id": "EPSZ_Ldfb8V-",
        "outputId": "8ca8fdb7-69c3-463e-d525-eb62e3da5662"
      },
      "execution_count": null,
      "outputs": [
        {
          "output_type": "execute_result",
          "data": {
            "text/plain": [
              "(162, 1)"
            ]
          },
          "metadata": {},
          "execution_count": 172
        }
      ]
    },
    {
      "cell_type": "code",
      "source": [
        "Y=data[:,1]"
      ],
      "metadata": {
        "id": "Mh8aM8MYcKJO"
      },
      "execution_count": null,
      "outputs": []
    },
    {
      "cell_type": "code",
      "source": [
        "Y.shape"
      ],
      "metadata": {
        "colab": {
          "base_uri": "https://localhost:8080/"
        },
        "id": "k82_5KWncN0I",
        "outputId": "877a2b57-1b06-4f48-a6ff-cffacf9789ab"
      },
      "execution_count": null,
      "outputs": [
        {
          "output_type": "execute_result",
          "data": {
            "text/plain": [
              "(162,)"
            ]
          },
          "metadata": {},
          "execution_count": 174
        }
      ]
    },
    {
      "cell_type": "code",
      "source": [
        "plt.scatter(X,Y)"
      ],
      "metadata": {
        "colab": {
          "base_uri": "https://localhost:8080/",
          "height": 294
        },
        "id": "CCuSqa38cWa-",
        "outputId": "f4a2ecb9-5911-4451-ba9e-02e175f15195"
      },
      "execution_count": null,
      "outputs": [
        {
          "output_type": "execute_result",
          "data": {
            "text/plain": [
              "<matplotlib.collections.PathCollection at 0x7f8cd82acb90>"
            ]
          },
          "metadata": {},
          "execution_count": 175
        },
        {
          "output_type": "display_data",
          "data": {
            "text/plain": [
              "<Figure size 432x288 with 1 Axes>"
            ],
            "image/png": "[encoded data removed]"
          },
          "metadata": {
            "needs_background": "light"
          }
        }
      ]
    },
    {
      "cell_type": "code",
      "source": [
        "Y=np.log(Y)\n",
        "plt.scatter(X,Y)"
      ],
      "metadata": {
        "colab": {
          "base_uri": "https://localhost:8080/",
          "height": 282
        },
        "id": "ZpE87MjDcb7P",
        "outputId": "77dcd5e0-b084-4049-9c0c-ccb0f6cc2bae"
      },
      "execution_count": null,
      "outputs": [
        {
          "output_type": "execute_result",
          "data": {
            "text/plain": [
              "<matplotlib.collections.PathCollection at 0x7f8cd82d7550>"
            ]
          },
          "metadata": {},
          "execution_count": 176
        },
        {
          "output_type": "display_data",
          "data": {
            "text/plain": [
              "<Figure size 432x288 with 1 Axes>"
            ],
            "image/png": "[encoded data removed]"
          },
          "metadata": {
            "needs_background": "light"
          }
        }
      ]
    },
    {
      "cell_type": "code",
      "source": [
        "#Centering X\n",
        "X=X-X.mean()"
      ],
      "metadata": {
        "id": "S7t2B_NFcvGH"
      },
      "execution_count": null,
      "outputs": []
    },
    {
      "cell_type": "code",
      "source": [
        "#tensorflow model\n",
        "model=tf.keras.models.Sequential([\n",
        "  tf.keras.layers.Input(shape=(1,)),\n",
        "  tf.keras.layers.Dense(1)\n",
        "])"
      ],
      "metadata": {
        "id": "dGP9d-Xpc3-Z"
      },
      "execution_count": null,
      "outputs": []
    },
    {
      "cell_type": "code",
      "source": [
        "model.compile(optimizer=tf.keras.optimizers.SGD(0.001,0.9), loss=\"mse\")\n",
        "#mae:mean absolute error\n",
        "#mse:mean squared error"
      ],
      "metadata": {
        "id": "5m4ZoQPbc8gA"
      },
      "execution_count": null,
      "outputs": []
    },
    {
      "cell_type": "code",
      "source": [
        "#learning rate schedule\n",
        "def schedule(epoch,lr):\n",
        "  if epoch >=50:\n",
        "    return 0.0001\n",
        "  return 0.001"
      ],
      "metadata": {
        "id": "OQcj2gfNd-pB"
      },
      "execution_count": null,
      "outputs": []
    },
    {
      "cell_type": "code",
      "source": [
        "scheduler=tf.keras.callbacks.LearningRateScheduler(schedule)"
      ],
      "metadata": {
        "id": "67Va4cmueQ8w"
      },
      "execution_count": null,
      "outputs": []
    },
    {
      "cell_type": "code",
      "source": [
        "#train the model\n",
        "r=model.fit(X,Y,epochs=300,callbacks=[scheduler])"
      ],
      "metadata": {
        "colab": {
          "base_uri": "https://localhost:8080/"
        },
        "id": "x0iXrlGcefbg",
        "outputId": "b868b636-59c4-45eb-e578-9935a5602edc"
      },
      "execution_count": null,
      "outputs": [
        {
          "output_type": "stream",
          "name": "stdout",
          "text": [
            "Epoch 1/300\n",
            "6/6 [==============================] - 0s 2ms/step - loss: 407.8728 - lr: 0.0010\n",
            "Epoch 2/300\n",
            "6/6 [==============================] - 0s 2ms/step - loss: 415.1090 - lr: 0.0010\n",
            "Epoch 3/300\n",
            "6/6 [==============================] - 0s 2ms/step - loss: 259.2067 - lr: 0.0010\n",
            "Epoch 4/300\n",
            "6/6 [==============================] - 0s 2ms/step - loss: 210.6771 - lr: 0.0010\n",
            "Epoch 5/300\n",
            "6/6 [==============================] - 0s 2ms/step - loss: 192.3952 - lr: 0.0010\n",
            "Epoch 6/300\n",
            "6/6 [==============================] - 0s 2ms/step - loss: 165.3442 - lr: 0.0010\n",
            "Epoch 7/300\n",
            "6/6 [==============================] - 0s 2ms/step - loss: 112.4394 - lr: 0.0010\n",
            "Epoch 8/300\n",
            "6/6 [==============================] - 0s 2ms/step - loss: 95.1799 - lr: 0.0010\n",
            "Epoch 9/300\n",
            "6/6 [==============================] - 0s 2ms/step - loss: 55.4324 - lr: 0.0010\n",
            "Epoch 10/300\n",
            "6/6 [==============================] - 0s 3ms/step - loss: 37.8941 - lr: 0.0010\n",
            "Epoch 11/300\n",
            "6/6 [==============================] - 0s 2ms/step - loss: 27.0272 - lr: 0.0010\n",
            "Epoch 12/300\n",
            "6/6 [==============================] - 0s 2ms/step - loss: 18.7417 - lr: 0.0010\n",
            "Epoch 13/300\n",
            "6/6 [==============================] - 0s 2ms/step - loss: 18.2216 - lr: 0.0010\n",
            "Epoch 14/300\n",
            "6/6 [==============================] - 0s 2ms/step - loss: 11.5904 - lr: 0.0010\n",
            "Epoch 15/300\n",
            "6/6 [==============================] - 0s 2ms/step - loss: 11.8264 - lr: 0.0010\n",
            "Epoch 16/300\n",
            "6/6 [==============================] - 0s 2ms/step - loss: 5.3449 - lr: 0.0010\n",
            "Epoch 17/300\n",
            "6/6 [==============================] - 0s 2ms/step - loss: 4.0356 - lr: 0.0010\n",
            "Epoch 18/300\n",
            "6/6 [==============================] - 0s 2ms/step - loss: 3.5779 - lr: 0.0010\n",
            "Epoch 19/300\n",
            "6/6 [==============================] - 0s 1ms/step - loss: 2.6339 - lr: 0.0010\n",
            "Epoch 20/300\n",
            "6/6 [==============================] - 0s 2ms/step - loss: 2.2323 - lr: 0.0010\n",
            "Epoch 21/300\n",
            "6/6 [==============================] - 0s 3ms/step - loss: 1.8299 - lr: 0.0010\n",
            "Epoch 22/300\n",
            "6/6 [==============================] - 0s 2ms/step - loss: 1.6920 - lr: 0.0010\n",
            "Epoch 23/300\n",
            "6/6 [==============================] - 0s 2ms/step - loss: 1.5509 - lr: 0.0010\n",
            "Epoch 24/300\n",
            "6/6 [==============================] - 0s 2ms/step - loss: 1.2308 - lr: 0.0010\n",
            "Epoch 25/300\n",
            "6/6 [==============================] - 0s 2ms/step - loss: 1.1212 - lr: 0.0010\n",
            "Epoch 26/300\n",
            "6/6 [==============================] - 0s 2ms/step - loss: 1.2378 - lr: 0.0010\n",
            "Epoch 27/300\n",
            "6/6 [==============================] - 0s 2ms/step - loss: 1.0132 - lr: 0.0010\n",
            "Epoch 28/300\n",
            "6/6 [==============================] - 0s 2ms/step - loss: 1.0966 - lr: 0.0010\n",
            "Epoch 29/300\n",
            "6/6 [==============================] - 0s 2ms/step - loss: 0.9735 - lr: 0.0010\n",
            "Epoch 30/300\n",
            "6/6 [==============================] - 0s 2ms/step - loss: 0.9672 - lr: 0.0010\n",
            "Epoch 31/300\n",
            "6/6 [==============================] - 0s 2ms/step - loss: 1.1176 - lr: 0.0010\n",
            "Epoch 32/300\n",
            "6/6 [==============================] - 0s 2ms/step - loss: 1.0285 - lr: 0.0010\n",
            "Epoch 33/300\n",
            "6/6 [==============================] - 0s 2ms/step - loss: 0.9700 - lr: 0.0010\n",
            "Epoch 34/300\n",
            "6/6 [==============================] - 0s 2ms/step - loss: 0.9310 - lr: 0.0010\n",
            "Epoch 35/300\n",
            "6/6 [==============================] - 0s 2ms/step - loss: 0.9202 - lr: 0.0010\n",
            "Epoch 36/300\n",
            "6/6 [==============================] - 0s 2ms/step - loss: 0.8800 - lr: 0.0010\n",
            "Epoch 37/300\n",
            "6/6 [==============================] - 0s 2ms/step - loss: 0.8877 - lr: 0.0010\n",
            "Epoch 38/300\n",
            "6/6 [==============================] - 0s 2ms/step - loss: 1.1543 - lr: 0.0010\n",
            "Epoch 39/300\n",
            "6/6 [==============================] - 0s 2ms/step - loss: 1.1244 - lr: 0.0010\n",
            "Epoch 40/300\n",
            "6/6 [==============================] - 0s 2ms/step - loss: 1.2752 - lr: 0.0010\n",
            "Epoch 41/300\n",
            "6/6 [==============================] - 0s 3ms/step - loss: 1.0661 - lr: 0.0010\n",
            "Epoch 42/300\n",
            "6/6 [==============================] - 0s 2ms/step - loss: 1.0182 - lr: 0.0010\n",
            "Epoch 43/300\n",
            "6/6 [==============================] - 0s 2ms/step - loss: 1.0132 - lr: 0.0010\n",
            "Epoch 44/300\n",
            "6/6 [==============================] - 0s 2ms/step - loss: 0.9527 - lr: 0.0010\n",
            "Epoch 45/300\n",
            "6/6 [==============================] - 0s 3ms/step - loss: 0.9049 - lr: 0.0010\n",
            "Epoch 46/300\n",
            "6/6 [==============================] - 0s 2ms/step - loss: 0.8850 - lr: 0.0010\n",
            "Epoch 47/300\n",
            "6/6 [==============================] - 0s 2ms/step - loss: 0.9082 - lr: 0.0010\n",
            "Epoch 48/300\n",
            "6/6 [==============================] - 0s 2ms/step - loss: 1.0642 - lr: 0.0010\n",
            "Epoch 49/300\n",
            "6/6 [==============================] - 0s 2ms/step - loss: 0.8909 - lr: 0.0010\n",
            "Epoch 50/300\n",
            "6/6 [==============================] - 0s 2ms/step - loss: 1.2123 - lr: 0.0010\n",
            "Epoch 51/300\n",
            "6/6 [==============================] - 0s 2ms/step - loss: 2.2441 - lr: 1.0000e-04\n",
            "Epoch 52/300\n",
            "6/6 [==============================] - 0s 2ms/step - loss: 1.8362 - lr: 1.0000e-04\n",
            "Epoch 53/300\n",
            "6/6 [==============================] - 0s 2ms/step - loss: 0.9487 - lr: 1.0000e-04\n",
            "Epoch 54/300\n",
            "6/6 [==============================] - 0s 2ms/step - loss: 1.1827 - lr: 1.0000e-04\n",
            "Epoch 55/300\n",
            "6/6 [==============================] - 0s 2ms/step - loss: 1.0464 - lr: 1.0000e-04\n",
            "Epoch 56/300\n",
            "6/6 [==============================] - 0s 2ms/step - loss: 0.9106 - lr: 1.0000e-04\n",
            "Epoch 57/300\n",
            "6/6 [==============================] - 0s 2ms/step - loss: 1.0674 - lr: 1.0000e-04\n",
            "Epoch 58/300\n",
            "6/6 [==============================] - 0s 2ms/step - loss: 0.9273 - lr: 1.0000e-04\n",
            "Epoch 59/300\n",
            "6/6 [==============================] - 0s 2ms/step - loss: 0.8741 - lr: 1.0000e-04\n",
            "Epoch 60/300\n",
            "6/6 [==============================] - 0s 2ms/step - loss: 0.8854 - lr: 1.0000e-04\n",
            "Epoch 61/300\n",
            "6/6 [==============================] - 0s 2ms/step - loss: 0.8812 - lr: 1.0000e-04\n",
            "Epoch 62/300\n",
            "6/6 [==============================] - 0s 2ms/step - loss: 0.8745 - lr: 1.0000e-04\n",
            "Epoch 63/300\n",
            "6/6 [==============================] - 0s 2ms/step - loss: 0.8801 - lr: 1.0000e-04\n",
            "Epoch 64/300\n",
            "6/6 [==============================] - 0s 2ms/step - loss: 0.8918 - lr: 1.0000e-04\n",
            "Epoch 65/300\n",
            "6/6 [==============================] - 0s 2ms/step - loss: 0.8857 - lr: 1.0000e-04\n",
            "Epoch 66/300\n",
            "6/6 [==============================] - 0s 2ms/step - loss: 0.8791 - lr: 1.0000e-04\n",
            "Epoch 67/300\n",
            "6/6 [==============================] - 0s 2ms/step - loss: 0.8762 - lr: 1.0000e-04\n",
            "Epoch 68/300\n",
            "6/6 [==============================] - 0s 2ms/step - loss: 0.8701 - lr: 1.0000e-04\n",
            "Epoch 69/300\n",
            "6/6 [==============================] - 0s 3ms/step - loss: 0.8760 - lr: 1.0000e-04\n",
            "Epoch 70/300\n",
            "6/6 [==============================] - 0s 2ms/step - loss: 0.8773 - lr: 1.0000e-04\n",
            "Epoch 71/300\n",
            "6/6 [==============================] - 0s 2ms/step - loss: 0.8904 - lr: 1.0000e-04\n",
            "Epoch 72/300\n",
            "6/6 [==============================] - 0s 2ms/step - loss: 0.9155 - lr: 1.0000e-04\n",
            "Epoch 73/300\n",
            "6/6 [==============================] - 0s 2ms/step - loss: 0.8798 - lr: 1.0000e-04\n",
            "Epoch 74/300\n",
            "6/6 [==============================] - 0s 2ms/step - loss: 0.8775 - lr: 1.0000e-04\n",
            "Epoch 75/300\n",
            "6/6 [==============================] - 0s 2ms/step - loss: 0.8871 - lr: 1.0000e-04\n",
            "Epoch 76/300\n",
            "6/6 [==============================] - 0s 2ms/step - loss: 0.8772 - lr: 1.0000e-04\n",
            "Epoch 77/300\n",
            "6/6 [==============================] - 0s 2ms/step - loss: 0.8739 - lr: 1.0000e-04\n",
            "Epoch 78/300\n",
            "6/6 [==============================] - 0s 2ms/step - loss: 0.8767 - lr: 1.0000e-04\n",
            "Epoch 79/300\n",
            "6/6 [==============================] - 0s 2ms/step - loss: 0.8797 - lr: 1.0000e-04\n",
            "Epoch 80/300\n",
            "6/6 [==============================] - 0s 2ms/step - loss: 0.8776 - lr: 1.0000e-04\n",
            "Epoch 81/300\n",
            "6/6 [==============================] - 0s 2ms/step - loss: 0.8764 - lr: 1.0000e-04\n",
            "Epoch 82/300\n",
            "6/6 [==============================] - 0s 2ms/step - loss: 0.8788 - lr: 1.0000e-04\n",
            "Epoch 83/300\n",
            "6/6 [==============================] - 0s 2ms/step - loss: 0.8704 - lr: 1.0000e-04\n",
            "Epoch 84/300\n",
            "6/6 [==============================] - 0s 2ms/step - loss: 0.8939 - lr: 1.0000e-04\n",
            "Epoch 85/300\n",
            "6/6 [==============================] - 0s 2ms/step - loss: 0.8858 - lr: 1.0000e-04\n",
            "Epoch 86/300\n",
            "6/6 [==============================] - 0s 2ms/step - loss: 0.8750 - lr: 1.0000e-04\n",
            "Epoch 87/300\n",
            "6/6 [==============================] - 0s 2ms/step - loss: 0.8754 - lr: 1.0000e-04\n",
            "Epoch 88/300\n",
            "6/6 [==============================] - 0s 2ms/step - loss: 0.8747 - lr: 1.0000e-04\n",
            "Epoch 89/300\n",
            "6/6 [==============================] - 0s 2ms/step - loss: 0.8734 - lr: 1.0000e-04\n",
            "Epoch 90/300\n",
            "6/6 [==============================] - 0s 2ms/step - loss: 0.8921 - lr: 1.0000e-04\n",
            "Epoch 91/300\n",
            "6/6 [==============================] - 0s 2ms/step - loss: 0.8850 - lr: 1.0000e-04\n",
            "Epoch 92/300\n",
            "6/6 [==============================] - 0s 2ms/step - loss: 0.8774 - lr: 1.0000e-04\n",
            "Epoch 93/300\n",
            "6/6 [==============================] - 0s 2ms/step - loss: 0.9493 - lr: 1.0000e-04\n",
            "Epoch 94/300\n",
            "6/6 [==============================] - 0s 2ms/step - loss: 0.9202 - lr: 1.0000e-04\n",
            "Epoch 95/300\n",
            "6/6 [==============================] - 0s 2ms/step - loss: 0.8776 - lr: 1.0000e-04\n",
            "Epoch 96/300\n",
            "6/6 [==============================] - 0s 2ms/step - loss: 0.8842 - lr: 1.0000e-04\n",
            "Epoch 97/300\n",
            "6/6 [==============================] - 0s 2ms/step - loss: 0.8726 - lr: 1.0000e-04\n",
            "Epoch 98/300\n",
            "6/6 [==============================] - 0s 1ms/step - loss: 0.8757 - lr: 1.0000e-04\n",
            "Epoch 99/300\n",
            "6/6 [==============================] - 0s 2ms/step - loss: 0.8848 - lr: 1.0000e-04\n",
            "Epoch 100/300\n",
            "6/6 [==============================] - 0s 2ms/step - loss: 0.9113 - lr: 1.0000e-04\n",
            "Epoch 101/300\n",
            "6/6 [==============================] - 0s 2ms/step - loss: 0.8755 - lr: 1.0000e-04\n",
            "Epoch 102/300\n",
            "6/6 [==============================] - 0s 2ms/step - loss: 0.8753 - lr: 1.0000e-04\n",
            "Epoch 103/300\n",
            "6/6 [==============================] - 0s 2ms/step - loss: 0.8747 - lr: 1.0000e-04\n",
            "Epoch 104/300\n",
            "6/6 [==============================] - 0s 1ms/step - loss: 0.8719 - lr: 1.0000e-04\n",
            "Epoch 105/300\n",
            "6/6 [==============================] - 0s 2ms/step - loss: 0.8763 - lr: 1.0000e-04\n",
            "Epoch 106/300\n",
            "6/6 [==============================] - 0s 3ms/step - loss: 0.8736 - lr: 1.0000e-04\n",
            "Epoch 107/300\n",
            "6/6 [==============================] - 0s 2ms/step - loss: 0.8699 - lr: 1.0000e-04\n",
            "Epoch 108/300\n",
            "6/6 [==============================] - 0s 2ms/step - loss: 0.8772 - lr: 1.0000e-04\n",
            "Epoch 109/300\n",
            "6/6 [==============================] - 0s 2ms/step - loss: 0.8729 - lr: 1.0000e-04\n",
            "Epoch 110/300\n",
            "6/6 [==============================] - 0s 2ms/step - loss: 0.8785 - lr: 1.0000e-04\n",
            "Epoch 111/300\n",
            "6/6 [==============================] - 0s 2ms/step - loss: 0.8778 - lr: 1.0000e-04\n",
            "Epoch 112/300\n",
            "6/6 [==============================] - 0s 2ms/step - loss: 0.8725 - lr: 1.0000e-04\n",
            "Epoch 113/300\n",
            "6/6 [==============================] - 0s 2ms/step - loss: 0.8762 - lr: 1.0000e-04\n",
            "Epoch 114/300\n",
            "6/6 [==============================] - 0s 2ms/step - loss: 0.8954 - lr: 1.0000e-04\n",
            "Epoch 115/300\n",
            "6/6 [==============================] - 0s 3ms/step - loss: 0.8902 - lr: 1.0000e-04\n",
            "Epoch 116/300\n",
            "6/6 [==============================] - 0s 2ms/step - loss: 0.8809 - lr: 1.0000e-04\n",
            "Epoch 117/300\n",
            "6/6 [==============================] - 0s 1ms/step - loss: 0.8737 - lr: 1.0000e-04\n",
            "Epoch 118/300\n",
            "6/6 [==============================] - 0s 2ms/step - loss: 0.9000 - lr: 1.0000e-04\n",
            "Epoch 119/300\n",
            "6/6 [==============================] - 0s 2ms/step - loss: 0.8832 - lr: 1.0000e-04\n",
            "Epoch 120/300\n",
            "6/6 [==============================] - 0s 2ms/step - loss: 0.8705 - lr: 1.0000e-04\n",
            "Epoch 121/300\n",
            "6/6 [==============================] - 0s 2ms/step - loss: 0.9003 - lr: 1.0000e-04\n",
            "Epoch 122/300\n",
            "6/6 [==============================] - 0s 3ms/step - loss: 0.9192 - lr: 1.0000e-04\n",
            "Epoch 123/300\n",
            "6/6 [==============================] - 0s 1ms/step - loss: 0.8668 - lr: 1.0000e-04\n",
            "Epoch 124/300\n",
            "6/6 [==============================] - 0s 2ms/step - loss: 0.8781 - lr: 1.0000e-04\n",
            "Epoch 125/300\n",
            "6/6 [==============================] - 0s 2ms/step - loss: 0.8731 - lr: 1.0000e-04\n",
            "Epoch 126/300\n",
            "6/6 [==============================] - 0s 3ms/step - loss: 0.8715 - lr: 1.0000e-04\n",
            "Epoch 127/300\n",
            "6/6 [==============================] - 0s 3ms/step - loss: 0.8721 - lr: 1.0000e-04\n",
            "Epoch 128/300\n",
            "6/6 [==============================] - 0s 2ms/step - loss: 0.8724 - lr: 1.0000e-04\n",
            "Epoch 129/300\n",
            "6/6 [==============================] - 0s 2ms/step - loss: 0.8749 - lr: 1.0000e-04\n",
            "Epoch 130/300\n",
            "6/6 [==============================] - 0s 2ms/step - loss: 0.8835 - lr: 1.0000e-04\n",
            "Epoch 131/300\n",
            "6/6 [==============================] - 0s 2ms/step - loss: 0.9201 - lr: 1.0000e-04\n",
            "Epoch 132/300\n",
            "6/6 [==============================] - 0s 2ms/step - loss: 0.8901 - lr: 1.0000e-04\n",
            "Epoch 133/300\n",
            "6/6 [==============================] - 0s 2ms/step - loss: 0.8709 - lr: 1.0000e-04\n",
            "Epoch 134/300\n",
            "6/6 [==============================] - 0s 3ms/step - loss: 0.8956 - lr: 1.0000e-04\n",
            "Epoch 135/300\n",
            "6/6 [==============================] - 0s 2ms/step - loss: 0.8791 - lr: 1.0000e-04\n",
            "Epoch 136/300\n",
            "6/6 [==============================] - 0s 2ms/step - loss: 0.9059 - lr: 1.0000e-04\n",
            "Epoch 137/300\n",
            "6/6 [==============================] - 0s 2ms/step - loss: 0.9032 - lr: 1.0000e-04\n",
            "Epoch 138/300\n",
            "6/6 [==============================] - 0s 2ms/step - loss: 0.8750 - lr: 1.0000e-04\n",
            "Epoch 139/300\n",
            "6/6 [==============================] - 0s 2ms/step - loss: 0.8750 - lr: 1.0000e-04\n",
            "Epoch 140/300\n",
            "6/6 [==============================] - 0s 2ms/step - loss: 0.9199 - lr: 1.0000e-04\n",
            "Epoch 141/300\n",
            "6/6 [==============================] - 0s 2ms/step - loss: 0.8864 - lr: 1.0000e-04\n",
            "Epoch 142/300\n",
            "6/6 [==============================] - 0s 2ms/step - loss: 0.8805 - lr: 1.0000e-04\n",
            "Epoch 143/300\n",
            "6/6 [==============================] - 0s 2ms/step - loss: 0.8827 - lr: 1.0000e-04\n",
            "Epoch 144/300\n",
            "6/6 [==============================] - 0s 2ms/step - loss: 0.8894 - lr: 1.0000e-04\n",
            "Epoch 145/300\n",
            "6/6 [==============================] - 0s 2ms/step - loss: 0.8778 - lr: 1.0000e-04\n",
            "Epoch 146/300\n",
            "6/6 [==============================] - 0s 2ms/step - loss: 0.8811 - lr: 1.0000e-04\n",
            "Epoch 147/300\n",
            "6/6 [==============================] - 0s 2ms/step - loss: 0.8795 - lr: 1.0000e-04\n",
            "Epoch 148/300\n",
            "6/6 [==============================] - 0s 2ms/step - loss: 0.8727 - lr: 1.0000e-04\n",
            "Epoch 149/300\n",
            "6/6 [==============================] - 0s 2ms/step - loss: 0.8717 - lr: 1.0000e-04\n",
            "Epoch 150/300\n",
            "6/6 [==============================] - 0s 2ms/step - loss: 0.8779 - lr: 1.0000e-04\n",
            "Epoch 151/300\n",
            "6/6 [==============================] - 0s 2ms/step - loss: 0.8703 - lr: 1.0000e-04\n",
            "Epoch 152/300\n",
            "6/6 [==============================] - 0s 2ms/step - loss: 0.8750 - lr: 1.0000e-04\n",
            "Epoch 153/300\n",
            "6/6 [==============================] - 0s 2ms/step - loss: 0.8718 - lr: 1.0000e-04\n",
            "Epoch 154/300\n",
            "6/6 [==============================] - 0s 2ms/step - loss: 0.8881 - lr: 1.0000e-04\n",
            "Epoch 155/300\n",
            "6/6 [==============================] - 0s 2ms/step - loss: 0.8985 - lr: 1.0000e-04\n",
            "Epoch 156/300\n",
            "6/6 [==============================] - 0s 2ms/step - loss: 0.8803 - lr: 1.0000e-04\n",
            "Epoch 157/300\n",
            "6/6 [==============================] - 0s 2ms/step - loss: 0.8889 - lr: 1.0000e-04\n",
            "Epoch 158/300\n",
            "6/6 [==============================] - 0s 2ms/step - loss: 0.8936 - lr: 1.0000e-04\n",
            "Epoch 159/300\n",
            "6/6 [==============================] - 0s 2ms/step - loss: 0.8727 - lr: 1.0000e-04\n",
            "Epoch 160/300\n",
            "6/6 [==============================] - 0s 2ms/step - loss: 0.8813 - lr: 1.0000e-04\n",
            "Epoch 161/300\n",
            "6/6 [==============================] - 0s 1ms/step - loss: 0.8694 - lr: 1.0000e-04\n",
            "Epoch 162/300\n",
            "6/6 [==============================] - 0s 1ms/step - loss: 0.8720 - lr: 1.0000e-04\n",
            "Epoch 163/300\n",
            "6/6 [==============================] - 0s 3ms/step - loss: 0.8715 - lr: 1.0000e-04\n",
            "Epoch 164/300\n",
            "6/6 [==============================] - 0s 3ms/step - loss: 0.8760 - lr: 1.0000e-04\n",
            "Epoch 165/300\n",
            "6/6 [==============================] - 0s 2ms/step - loss: 0.8763 - lr: 1.0000e-04\n",
            "Epoch 166/300\n",
            "6/6 [==============================] - 0s 2ms/step - loss: 0.8737 - lr: 1.0000e-04\n",
            "Epoch 167/300\n",
            "6/6 [==============================] - 0s 2ms/step - loss: 0.8695 - lr: 1.0000e-04\n",
            "Epoch 168/300\n",
            "6/6 [==============================] - 0s 3ms/step - loss: 0.8718 - lr: 1.0000e-04\n",
            "Epoch 169/300\n",
            "6/6 [==============================] - 0s 2ms/step - loss: 0.8743 - lr: 1.0000e-04\n",
            "Epoch 170/300\n",
            "6/6 [==============================] - 0s 2ms/step - loss: 0.8824 - lr: 1.0000e-04\n",
            "Epoch 171/300\n",
            "6/6 [==============================] - 0s 1ms/step - loss: 0.8877 - lr: 1.0000e-04\n",
            "Epoch 172/300\n",
            "6/6 [==============================] - 0s 2ms/step - loss: 0.8762 - lr: 1.0000e-04\n",
            "Epoch 173/300\n",
            "6/6 [==============================] - 0s 2ms/step - loss: 0.8739 - lr: 1.0000e-04\n",
            "Epoch 174/300\n",
            "6/6 [==============================] - 0s 3ms/step - loss: 0.8746 - lr: 1.0000e-04\n",
            "Epoch 175/300\n",
            "6/6 [==============================] - 0s 2ms/step - loss: 0.8711 - lr: 1.0000e-04\n",
            "Epoch 176/300\n",
            "6/6 [==============================] - 0s 2ms/step - loss: 0.8726 - lr: 1.0000e-04\n",
            "Epoch 177/300\n",
            "6/6 [==============================] - 0s 2ms/step - loss: 0.8700 - lr: 1.0000e-04\n",
            "Epoch 178/300\n",
            "6/6 [==============================] - 0s 2ms/step - loss: 0.8718 - lr: 1.0000e-04\n",
            "Epoch 179/300\n",
            "6/6 [==============================] - 0s 2ms/step - loss: 0.8704 - lr: 1.0000e-04\n",
            "Epoch 180/300\n",
            "6/6 [==============================] - 0s 2ms/step - loss: 0.8732 - lr: 1.0000e-04\n",
            "Epoch 181/300\n",
            "6/6 [==============================] - 0s 3ms/step - loss: 0.8854 - lr: 1.0000e-04\n",
            "Epoch 182/300\n",
            "6/6 [==============================] - 0s 3ms/step - loss: 0.8853 - lr: 1.0000e-04\n",
            "Epoch 183/300\n",
            "6/6 [==============================] - 0s 2ms/step - loss: 0.8739 - lr: 1.0000e-04\n",
            "Epoch 184/300\n",
            "6/6 [==============================] - 0s 2ms/step - loss: 0.8698 - lr: 1.0000e-04\n",
            "Epoch 185/300\n",
            "6/6 [==============================] - 0s 2ms/step - loss: 0.8759 - lr: 1.0000e-04\n",
            "Epoch 186/300\n",
            "6/6 [==============================] - 0s 2ms/step - loss: 0.8713 - lr: 1.0000e-04\n",
            "Epoch 187/300\n",
            "6/6 [==============================] - 0s 2ms/step - loss: 0.8749 - lr: 1.0000e-04\n",
            "Epoch 188/300\n",
            "6/6 [==============================] - 0s 3ms/step - loss: 0.8750 - lr: 1.0000e-04\n",
            "Epoch 189/300\n",
            "6/6 [==============================] - 0s 2ms/step - loss: 0.8903 - lr: 1.0000e-04\n",
            "Epoch 190/300\n",
            "6/6 [==============================] - 0s 2ms/step - loss: 0.9067 - lr: 1.0000e-04\n",
            "Epoch 191/300\n",
            "6/6 [==============================] - 0s 3ms/step - loss: 0.8819 - lr: 1.0000e-04\n",
            "Epoch 192/300\n",
            "6/6 [==============================] - 0s 2ms/step - loss: 0.8743 - lr: 1.0000e-04\n",
            "Epoch 193/300\n",
            "6/6 [==============================] - 0s 2ms/step - loss: 0.8773 - lr: 1.0000e-04\n",
            "Epoch 194/300\n",
            "6/6 [==============================] - 0s 2ms/step - loss: 0.8707 - lr: 1.0000e-04\n",
            "Epoch 195/300\n",
            "6/6 [==============================] - 0s 2ms/step - loss: 0.9499 - lr: 1.0000e-04\n",
            "Epoch 196/300\n",
            "6/6 [==============================] - 0s 2ms/step - loss: 0.9247 - lr: 1.0000e-04\n",
            "Epoch 197/300\n",
            "6/6 [==============================] - 0s 2ms/step - loss: 0.8680 - lr: 1.0000e-04\n",
            "Epoch 198/300\n",
            "6/6 [==============================] - 0s 2ms/step - loss: 0.9130 - lr: 1.0000e-04\n",
            "Epoch 199/300\n",
            "6/6 [==============================] - 0s 2ms/step - loss: 0.9696 - lr: 1.0000e-04\n",
            "Epoch 200/300\n",
            "6/6 [==============================] - 0s 2ms/step - loss: 0.9115 - lr: 1.0000e-04\n",
            "Epoch 201/300\n",
            "6/6 [==============================] - 0s 2ms/step - loss: 0.8786 - lr: 1.0000e-04\n",
            "Epoch 202/300\n",
            "6/6 [==============================] - 0s 2ms/step - loss: 0.8873 - lr: 1.0000e-04\n",
            "Epoch 203/300\n",
            "6/6 [==============================] - 0s 2ms/step - loss: 0.8894 - lr: 1.0000e-04\n",
            "Epoch 204/300\n",
            "6/6 [==============================] - 0s 2ms/step - loss: 0.8801 - lr: 1.0000e-04\n",
            "Epoch 205/300\n",
            "6/6 [==============================] - 0s 2ms/step - loss: 0.8726 - lr: 1.0000e-04\n",
            "Epoch 206/300\n",
            "6/6 [==============================] - 0s 2ms/step - loss: 0.8729 - lr: 1.0000e-04\n",
            "Epoch 207/300\n",
            "6/6 [==============================] - 0s 2ms/step - loss: 0.8779 - lr: 1.0000e-04\n",
            "Epoch 208/300\n",
            "6/6 [==============================] - 0s 2ms/step - loss: 0.8805 - lr: 1.0000e-04\n",
            "Epoch 209/300\n",
            "6/6 [==============================] - 0s 2ms/step - loss: 0.8826 - lr: 1.0000e-04\n",
            "Epoch 210/300\n",
            "6/6 [==============================] - 0s 2ms/step - loss: 0.8733 - lr: 1.0000e-04\n",
            "Epoch 211/300\n",
            "6/6 [==============================] - 0s 2ms/step - loss: 0.8710 - lr: 1.0000e-04\n",
            "Epoch 212/300\n",
            "6/6 [==============================] - 0s 2ms/step - loss: 0.8713 - lr: 1.0000e-04\n",
            "Epoch 213/300\n",
            "6/6 [==============================] - 0s 2ms/step - loss: 0.8782 - lr: 1.0000e-04\n",
            "Epoch 214/300\n",
            "6/6 [==============================] - 0s 2ms/step - loss: 0.8810 - lr: 1.0000e-04\n",
            "Epoch 215/300\n",
            "6/6 [==============================] - 0s 2ms/step - loss: 0.8646 - lr: 1.0000e-04\n",
            "Epoch 216/300\n",
            "6/6 [==============================] - 0s 2ms/step - loss: 0.8743 - lr: 1.0000e-04\n",
            "Epoch 217/300\n",
            "6/6 [==============================] - 0s 2ms/step - loss: 0.8827 - lr: 1.0000e-04\n",
            "Epoch 218/300\n",
            "6/6 [==============================] - 0s 2ms/step - loss: 0.8905 - lr: 1.0000e-04\n",
            "Epoch 219/300\n",
            "6/6 [==============================] - 0s 2ms/step - loss: 0.8782 - lr: 1.0000e-04\n",
            "Epoch 220/300\n",
            "6/6 [==============================] - 0s 2ms/step - loss: 0.8706 - lr: 1.0000e-04\n",
            "Epoch 221/300\n",
            "6/6 [==============================] - 0s 2ms/step - loss: 0.8946 - lr: 1.0000e-04\n",
            "Epoch 222/300\n",
            "6/6 [==============================] - 0s 3ms/step - loss: 0.8737 - lr: 1.0000e-04\n",
            "Epoch 223/300\n",
            "6/6 [==============================] - 0s 2ms/step - loss: 0.8851 - lr: 1.0000e-04\n",
            "Epoch 224/300\n",
            "6/6 [==============================] - 0s 2ms/step - loss: 0.8728 - lr: 1.0000e-04\n",
            "Epoch 225/300\n",
            "6/6 [==============================] - 0s 2ms/step - loss: 0.8760 - lr: 1.0000e-04\n",
            "Epoch 226/300\n",
            "6/6 [==============================] - 0s 2ms/step - loss: 0.8871 - lr: 1.0000e-04\n",
            "Epoch 227/300\n",
            "6/6 [==============================] - 0s 3ms/step - loss: 0.8719 - lr: 1.0000e-04\n",
            "Epoch 228/300\n",
            "6/6 [==============================] - 0s 2ms/step - loss: 0.8759 - lr: 1.0000e-04\n",
            "Epoch 229/300\n",
            "6/6 [==============================] - 0s 2ms/step - loss: 0.8724 - lr: 1.0000e-04\n",
            "Epoch 230/300\n",
            "6/6 [==============================] - 0s 2ms/step - loss: 0.8773 - lr: 1.0000e-04\n",
            "Epoch 231/300\n",
            "6/6 [==============================] - 0s 2ms/step - loss: 0.8776 - lr: 1.0000e-04\n",
            "Epoch 232/300\n",
            "6/6 [==============================] - 0s 2ms/step - loss: 0.8707 - lr: 1.0000e-04\n",
            "Epoch 233/300\n",
            "6/6 [==============================] - 0s 2ms/step - loss: 0.8723 - lr: 1.0000e-04\n",
            "Epoch 234/300\n",
            "6/6 [==============================] - 0s 2ms/step - loss: 0.8713 - lr: 1.0000e-04\n",
            "Epoch 235/300\n",
            "6/6 [==============================] - 0s 2ms/step - loss: 0.8809 - lr: 1.0000e-04\n",
            "Epoch 236/300\n",
            "6/6 [==============================] - 0s 2ms/step - loss: 0.8798 - lr: 1.0000e-04\n",
            "Epoch 237/300\n",
            "6/6 [==============================] - 0s 2ms/step - loss: 0.8705 - lr: 1.0000e-04\n",
            "Epoch 238/300\n",
            "6/6 [==============================] - 0s 2ms/step - loss: 0.8705 - lr: 1.0000e-04\n",
            "Epoch 239/300\n",
            "6/6 [==============================] - 0s 2ms/step - loss: 0.8699 - lr: 1.0000e-04\n",
            "Epoch 240/300\n",
            "6/6 [==============================] - 0s 2ms/step - loss: 0.8709 - lr: 1.0000e-04\n",
            "Epoch 241/300\n",
            "6/6 [==============================] - 0s 2ms/step - loss: 0.8704 - lr: 1.0000e-04\n",
            "Epoch 242/300\n",
            "6/6 [==============================] - 0s 2ms/step - loss: 0.8709 - lr: 1.0000e-04\n",
            "Epoch 243/300\n",
            "6/6 [==============================] - 0s 2ms/step - loss: 0.8699 - lr: 1.0000e-04\n",
            "Epoch 244/300\n",
            "6/6 [==============================] - 0s 2ms/step - loss: 0.8895 - lr: 1.0000e-04\n",
            "Epoch 245/300\n",
            "6/6 [==============================] - 0s 2ms/step - loss: 0.8962 - lr: 1.0000e-04\n",
            "Epoch 246/300\n",
            "6/6 [==============================] - 0s 2ms/step - loss: 0.8702 - lr: 1.0000e-04\n",
            "Epoch 247/300\n",
            "6/6 [==============================] - 0s 2ms/step - loss: 0.8744 - lr: 1.0000e-04\n",
            "Epoch 248/300\n",
            "6/6 [==============================] - 0s 3ms/step - loss: 0.8718 - lr: 1.0000e-04\n",
            "Epoch 249/300\n",
            "6/6 [==============================] - 0s 3ms/step - loss: 0.8725 - lr: 1.0000e-04\n",
            "Epoch 250/300\n",
            "6/6 [==============================] - 0s 2ms/step - loss: 0.8785 - lr: 1.0000e-04\n",
            "Epoch 251/300\n",
            "6/6 [==============================] - 0s 2ms/step - loss: 0.8751 - lr: 1.0000e-04\n",
            "Epoch 252/300\n",
            "6/6 [==============================] - 0s 2ms/step - loss: 0.8720 - lr: 1.0000e-04\n",
            "Epoch 253/300\n",
            "6/6 [==============================] - 0s 2ms/step - loss: 0.8830 - lr: 1.0000e-04\n",
            "Epoch 254/300\n",
            "6/6 [==============================] - 0s 2ms/step - loss: 0.8826 - lr: 1.0000e-04\n",
            "Epoch 255/300\n",
            "6/6 [==============================] - 0s 2ms/step - loss: 0.8779 - lr: 1.0000e-04\n",
            "Epoch 256/300\n",
            "6/6 [==============================] - 0s 2ms/step - loss: 0.8754 - lr: 1.0000e-04\n",
            "Epoch 257/300\n",
            "6/6 [==============================] - 0s 2ms/step - loss: 0.8703 - lr: 1.0000e-04\n",
            "Epoch 258/300\n",
            "6/6 [==============================] - 0s 2ms/step - loss: 0.8696 - lr: 1.0000e-04\n",
            "Epoch 259/300\n",
            "6/6 [==============================] - 0s 2ms/step - loss: 0.8803 - lr: 1.0000e-04\n",
            "Epoch 260/300\n",
            "6/6 [==============================] - 0s 2ms/step - loss: 0.8835 - lr: 1.0000e-04\n",
            "Epoch 261/300\n",
            "6/6 [==============================] - 0s 2ms/step - loss: 0.8780 - lr: 1.0000e-04\n",
            "Epoch 262/300\n",
            "6/6 [==============================] - 0s 2ms/step - loss: 0.8707 - lr: 1.0000e-04\n",
            "Epoch 263/300\n",
            "6/6 [==============================] - 0s 2ms/step - loss: 0.8727 - lr: 1.0000e-04\n",
            "Epoch 264/300\n",
            "6/6 [==============================] - 0s 2ms/step - loss: 0.8710 - lr: 1.0000e-04\n",
            "Epoch 265/300\n",
            "6/6 [==============================] - 0s 2ms/step - loss: 0.8970 - lr: 1.0000e-04\n",
            "Epoch 266/300\n",
            "6/6 [==============================] - 0s 2ms/step - loss: 0.8984 - lr: 1.0000e-04\n",
            "Epoch 267/300\n",
            "6/6 [==============================] - 0s 2ms/step - loss: 0.8725 - lr: 1.0000e-04\n",
            "Epoch 268/300\n",
            "6/6 [==============================] - 0s 2ms/step - loss: 0.8755 - lr: 1.0000e-04\n",
            "Epoch 269/300\n",
            "6/6 [==============================] - 0s 2ms/step - loss: 0.8720 - lr: 1.0000e-04\n",
            "Epoch 270/300\n",
            "6/6 [==============================] - 0s 2ms/step - loss: 0.8718 - lr: 1.0000e-04\n",
            "Epoch 271/300\n",
            "6/6 [==============================] - 0s 2ms/step - loss: 0.8828 - lr: 1.0000e-04\n",
            "Epoch 272/300\n",
            "6/6 [==============================] - 0s 2ms/step - loss: 0.8799 - lr: 1.0000e-04\n",
            "Epoch 273/300\n",
            "6/6 [==============================] - 0s 1ms/step - loss: 0.8808 - lr: 1.0000e-04\n",
            "Epoch 274/300\n",
            "6/6 [==============================] - 0s 2ms/step - loss: 0.8809 - lr: 1.0000e-04\n",
            "Epoch 275/300\n",
            "6/6 [==============================] - 0s 2ms/step - loss: 0.8762 - lr: 1.0000e-04\n",
            "Epoch 276/300\n",
            "6/6 [==============================] - 0s 2ms/step - loss: 0.8843 - lr: 1.0000e-04\n",
            "Epoch 277/300\n",
            "6/6 [==============================] - 0s 2ms/step - loss: 0.8871 - lr: 1.0000e-04\n",
            "Epoch 278/300\n",
            "6/6 [==============================] - 0s 2ms/step - loss: 0.9157 - lr: 1.0000e-04\n",
            "Epoch 279/300\n",
            "6/6 [==============================] - 0s 2ms/step - loss: 0.8878 - lr: 1.0000e-04\n",
            "Epoch 280/300\n",
            "6/6 [==============================] - 0s 2ms/step - loss: 0.8702 - lr: 1.0000e-04\n",
            "Epoch 281/300\n",
            "6/6 [==============================] - 0s 2ms/step - loss: 0.8707 - lr: 1.0000e-04\n",
            "Epoch 282/300\n",
            "6/6 [==============================] - 0s 2ms/step - loss: 0.8803 - lr: 1.0000e-04\n",
            "Epoch 283/300\n",
            "6/6 [==============================] - 0s 2ms/step - loss: 0.8921 - lr: 1.0000e-04\n",
            "Epoch 284/300\n",
            "6/6 [==============================] - 0s 2ms/step - loss: 0.8763 - lr: 1.0000e-04\n",
            "Epoch 285/300\n",
            "6/6 [==============================] - 0s 2ms/step - loss: 0.9010 - lr: 1.0000e-04\n",
            "Epoch 286/300\n",
            "6/6 [==============================] - 0s 3ms/step - loss: 0.9704 - lr: 1.0000e-04\n",
            "Epoch 287/300\n",
            "6/6 [==============================] - 0s 2ms/step - loss: 0.9010 - lr: 1.0000e-04\n",
            "Epoch 288/300\n",
            "6/6 [==============================] - 0s 2ms/step - loss: 0.8724 - lr: 1.0000e-04\n",
            "Epoch 289/300\n",
            "6/6 [==============================] - 0s 2ms/step - loss: 0.9037 - lr: 1.0000e-04\n",
            "Epoch 290/300\n",
            "6/6 [==============================] - 0s 2ms/step - loss: 0.8852 - lr: 1.0000e-04\n",
            "Epoch 291/300\n",
            "6/6 [==============================] - 0s 2ms/step - loss: 0.8732 - lr: 1.0000e-04\n",
            "Epoch 292/300\n",
            "6/6 [==============================] - 0s 2ms/step - loss: 0.8725 - lr: 1.0000e-04\n",
            "Epoch 293/300\n",
            "6/6 [==============================] - 0s 2ms/step - loss: 0.8759 - lr: 1.0000e-04\n",
            "Epoch 294/300\n",
            "6/6 [==============================] - 0s 2ms/step - loss: 0.8838 - lr: 1.0000e-04\n",
            "Epoch 295/300\n",
            "6/6 [==============================] - 0s 4ms/step - loss: 0.8758 - lr: 1.0000e-04\n",
            "Epoch 296/300\n",
            "6/6 [==============================] - 0s 2ms/step - loss: 0.8710 - lr: 1.0000e-04\n",
            "Epoch 297/300\n",
            "6/6 [==============================] - 0s 2ms/step - loss: 0.8827 - lr: 1.0000e-04\n",
            "Epoch 298/300\n",
            "6/6 [==============================] - 0s 2ms/step - loss: 0.8803 - lr: 1.0000e-04\n",
            "Epoch 299/300\n",
            "6/6 [==============================] - 0s 2ms/step - loss: 0.8737 - lr: 1.0000e-04\n",
            "Epoch 300/300\n",
            "6/6 [==============================] - 0s 2ms/step - loss: 0.8740 - lr: 1.0000e-04\n"
          ]
        }
      ]
    },
    {
      "cell_type": "code",
      "source": [
        "r.history.keys()"
      ],
      "metadata": {
        "colab": {
          "base_uri": "https://localhost:8080/"
        },
        "id": "UW2FjHtXmHX4",
        "outputId": "764b0aa4-8990-4ebd-cce6-3e721d9bc7a5"
      },
      "execution_count": null,
      "outputs": [
        {
          "output_type": "execute_result",
          "data": {
            "text/plain": [
              "dict_keys(['loss', 'lr'])"
            ]
          },
          "metadata": {},
          "execution_count": 183
        }
      ]
    },
    {
      "cell_type": "code",
      "source": [
        "#plot the loss\n",
        "plt.plot(r.history[\"loss\"],label=\"loss\")"
      ],
      "metadata": {
        "colab": {
          "base_uri": "https://localhost:8080/",
          "height": 282
        },
        "id": "WYUGXjrQl1jq",
        "outputId": "1a3ac81d-73a5-4338-dc1b-d36026e411ab"
      },
      "execution_count": null,
      "outputs": [
        {
          "output_type": "execute_result",
          "data": {
            "text/plain": [
              "[<matplotlib.lines.Line2D at 0x7f8cd8114990>]"
            ]
          },
          "metadata": {},
          "execution_count": 184
        },
        {
          "output_type": "display_data",
          "data": {
            "text/plain": [
              "<Figure size 432x288 with 1 Axes>"
            ],
            "image/png": "[encoded data removed]"
          },
          "metadata": {
            "needs_background": "light"
          }
        }
      ]
    },
    {
      "cell_type": "code",
      "source": [
        "#get slope of the line\n",
        "#slope of the line is related to the doubling rate of translator count\n",
        "print(model.layers)#1 layer input doesnt count\n",
        "print(model.layers[0].get_weights())"
      ],
      "metadata": {
        "colab": {
          "base_uri": "https://localhost:8080/"
        },
        "id": "4Nt2_NQAmEZ_",
        "outputId": "f552aeaa-fee3-4d7a-8599-0db91a63dd88"
      },
      "execution_count": null,
      "outputs": [
        {
          "output_type": "stream",
          "name": "stdout",
          "text": [
            "[<keras.layers.core.dense.Dense object at 0x7f8cd8261290>]\n",
            "[array([[0.3398109]], dtype=float32), array([17.759003], dtype=float32)]\n"
          ]
        }
      ]
    },
    {
      "cell_type": "code",
      "source": [
        "#the slope of the line is:\n",
        "a=model.layers[0].get_weights()[0][0,0]"
      ],
      "metadata": {
        "id": "NlKcbne8nLXz"
      },
      "execution_count": null,
      "outputs": []
    },
    {
      "cell_type": "code",
      "source": [
        "print(\"Tiem to double:\",np.log(2)/a)\n",
        "#NOT WORKING AS EXPECTED"
      ],
      "metadata": {
        "colab": {
          "base_uri": "https://localhost:8080/"
        },
        "id": "pqs5O4Vencrz",
        "outputId": "41f9c994-8cfe-455c-d53f-ccdf59dbb077"
      },
      "execution_count": null,
      "outputs": [
        {
          "output_type": "stream",
          "name": "stdout",
          "text": [
            "Tiem to double: 2.039802621300277\n"
          ]
        }
      ]
    },
    {
      "cell_type": "code",
      "source": [],
      "metadata": {
        "id": "Mspquzt1S5_O"
      },
      "execution_count": null,
      "outputs": []
    },
    {
      "cell_type": "markdown",
      "source": [
        "# MAKING PREDICTIONS ON LINEAR REGRESSION"
      ],
      "metadata": {
        "id": "QJjgpL5XS60v"
      }
    },
    {
      "cell_type": "code",
      "source": [
        "#MAKE SURE THE LINE FITS OUR DATA\n",
        "Yhat=model.predict(X).flatten()\n",
        "plt.scatter(X,Y)\n",
        "plt.plot(X,Yhat)"
      ],
      "metadata": {
        "id": "r7YM17cgpx3j",
        "colab": {
          "base_uri": "https://localhost:8080/",
          "height": 282
        },
        "outputId": "99863c38-f896-4971-f79a-6d3cf955a10c"
      },
      "execution_count": null,
      "outputs": [
        {
          "output_type": "execute_result",
          "data": {
            "text/plain": [
              "[<matplotlib.lines.Line2D at 0x7f8cd7d96a10>]"
            ]
          },
          "metadata": {},
          "execution_count": 189
        },
        {
          "output_type": "display_data",
          "data": {
            "text/plain": [
              "<Figure size 432x288 with 1 Axes>"
            ],
            "image/png": "[encoded data removed]"
          },
          "metadata": {
            "needs_background": "light"
          }
        }
      ]
    },
    {
      "cell_type": "code",
      "source": [
        "X.shape"
      ],
      "metadata": {
        "colab": {
          "base_uri": "https://localhost:8080/"
        },
        "id": "32A3Sr8TNTVo",
        "outputId": "79d0ed3e-2c54-4118-a972-3801cd6d2f3a"
      },
      "execution_count": null,
      "outputs": [
        {
          "output_type": "execute_result",
          "data": {
            "text/plain": [
              "(162, 1)"
            ]
          },
          "metadata": {},
          "execution_count": 190
        }
      ]
    },
    {
      "cell_type": "code",
      "source": [
        "Y.shape"
      ],
      "metadata": {
        "colab": {
          "base_uri": "https://localhost:8080/"
        },
        "id": "aX53zhHITbel",
        "outputId": "532c921a-a6db-46c8-f7ac-40dc8a2d0c11"
      },
      "execution_count": null,
      "outputs": [
        {
          "output_type": "execute_result",
          "data": {
            "text/plain": [
              "(162,)"
            ]
          },
          "metadata": {},
          "execution_count": 191
        }
      ]
    },
    {
      "cell_type": "code",
      "source": [
        "#MANUAL CALCUALTION"
      ],
      "metadata": {
        "id": "t2w0z6x8Te1_"
      },
      "execution_count": null,
      "outputs": []
    },
    {
      "cell_type": "code",
      "source": [
        "#GET THE WEIGHTS\n",
        "w,b=model.layers[0].get_weights()"
      ],
      "metadata": {
        "id": "Gccwyh3MTj6v"
      },
      "execution_count": null,
      "outputs": []
    },
    {
      "cell_type": "code",
      "source": [
        "model.layers[0].get_weights()"
      ],
      "metadata": {
        "colab": {
          "base_uri": "https://localhost:8080/"
        },
        "id": "psuZpSJmTsXG",
        "outputId": "260b0c10-eded-4abf-e19f-71c4071bfab0"
      },
      "execution_count": null,
      "outputs": [
        {
          "output_type": "execute_result",
          "data": {
            "text/plain": [
              "[array([[0.3398109]], dtype=float32), array([17.759003], dtype=float32)]"
            ]
          },
          "metadata": {},
          "execution_count": 198
        }
      ]
    },
    {
      "cell_type": "code",
      "source": [
        "#RESHAPE X BECAUSE WE FLATTENED IT EARLIER (I dont know when)\n",
        "X=X.reshape(-1,1)\n"
      ],
      "metadata": {
        "id": "g-uMCHiMT-02"
      },
      "execution_count": null,
      "outputs": []
    },
    {
      "cell_type": "code",
      "source": [
        "X.shape"
      ],
      "metadata": {
        "colab": {
          "base_uri": "https://localhost:8080/"
        },
        "id": "2qlf0_tXUKNd",
        "outputId": "e3671de6-1b17-407b-bb2e-3475a245f752"
      },
      "execution_count": null,
      "outputs": [
        {
          "output_type": "execute_result",
          "data": {
            "text/plain": [
              "(162, 1)"
            ]
          },
          "metadata": {},
          "execution_count": 200
        }
      ]
    },
    {
      "cell_type": "code",
      "source": [
        "#(Nx1)==>(Nx1)x(1x1)+(1)\n",
        "Yhat2=(X.dot(w)+b).flatten()"
      ],
      "metadata": {
        "id": "ntNUqv_eUMjt"
      },
      "execution_count": null,
      "outputs": []
    },
    {
      "cell_type": "code",
      "source": [
        "(X.dot(w)+b).shape"
      ],
      "metadata": {
        "colab": {
          "base_uri": "https://localhost:8080/"
        },
        "id": "nGchrcC1Uv3m",
        "outputId": "c9c2dd38-bf12-450c-9c62-2574355ddc51"
      },
      "execution_count": null,
      "outputs": [
        {
          "output_type": "execute_result",
          "data": {
            "text/plain": [
              "(162, 1)"
            ]
          },
          "metadata": {},
          "execution_count": 205
        }
      ]
    },
    {
      "cell_type": "code",
      "source": [
        "Yhat.shape"
      ],
      "metadata": {
        "colab": {
          "base_uri": "https://localhost:8080/"
        },
        "id": "UGoxQf7zUhNf",
        "outputId": "0b6cf287-ca62-4aee-9356-ae87ae2fc8ec"
      },
      "execution_count": null,
      "outputs": [
        {
          "output_type": "execute_result",
          "data": {
            "text/plain": [
              "(162,)"
            ]
          },
          "metadata": {},
          "execution_count": 202
        }
      ]
    },
    {
      "cell_type": "code",
      "source": [
        "np.allclose(Yhat,Yhat2)"
      ],
      "metadata": {
        "colab": {
          "base_uri": "https://localhost:8080/"
        },
        "id": "CI3Lx-D_Uirk",
        "outputId": "49752de9-a25c-44b2-8f05-d6bd5cca3fce"
      },
      "execution_count": null,
      "outputs": [
        {
          "output_type": "execute_result",
          "data": {
            "text/plain": [
              "True"
            ]
          },
          "metadata": {},
          "execution_count": 203
        }
      ]
    },
    {
      "cell_type": "code",
      "source": [
        "#Yhat==Yhat2 #this is not used in floating point numbers"
      ],
      "metadata": {
        "id": "TaBkHVeWUmW0"
      },
      "execution_count": null,
      "outputs": []
    },
    {
      "cell_type": "code",
      "source": [
        "print(Yhat.shape,Yhat2.shape)"
      ],
      "metadata": {
        "colab": {
          "base_uri": "https://localhost:8080/"
        },
        "id": "z4ANxuBlU3j1",
        "outputId": "9f9abe12-41d9-428b-dd72-7c13c67310d5"
      },
      "execution_count": null,
      "outputs": [
        {
          "output_type": "stream",
          "name": "stdout",
          "text": [
            "(162,) (162,)\n"
          ]
        }
      ]
    },
    {
      "cell_type": "code",
      "source": [],
      "metadata": {
        "id": "uMT97XdWVBB0"
      },
      "execution_count": null,
      "outputs": []
    }
  ]
}